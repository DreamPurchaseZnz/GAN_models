{
 "cells": [
  {
   "cell_type": "markdown",
   "metadata": {},
   "source": [
    "## Load Module"
   ]
  },
  {
   "cell_type": "code",
   "execution_count": 1,
   "metadata": {
    "collapsed": true
   },
   "outputs": [],
   "source": [
    "import tensorflow as tf\n",
    "import tensorflow.contrib.layers as ly\n",
    "import os \n",
    "import numpy as np\n",
    "import matplotlib.pyplot as plt\n",
    "import scipy.io as scio\n",
    "from sklearn.model_selection import train_test_split\n",
    "from sklearn.metrics import r2_score\n",
    "import shutil"
   ]
  },
  {
   "cell_type": "markdown",
   "metadata": {},
   "source": [
    "## Parameters"
   ]
  },
  {
   "cell_type": "code",
   "execution_count": 2,
   "metadata": {
    "collapsed": false,
    "scrolled": true
   },
   "outputs": [],
   "source": [
    "# Inputs:Global parameters \n",
    "batch_size = 32\n",
    "img_dim = 688\n",
    "z_dim = 110\n",
    "y_dim = 1\n",
    "\n",
    "# Optimizer: whether use adam for parameters update , if flag is set false use tf.train.RMEPropOptimzer\n",
    "is_adam = True\n",
    "learning_rate_gen = 2e-4\n",
    "learning_rate_dis = 2e-4\n",
    "# the upper bound and lower bound in critic\n",
    "clamp_lower =-0.01\n",
    "clamp_upper = 0.01\n",
    "\n",
    "\n",
    "# Train : Prameters\n",
    "max_iter_step = 10000\n",
    "device = '/gpu:0'\n",
    "data_format = 'NCHW'\n",
    "channel = 1\n",
    "# Updata Diters times for critic in one iter(unless i<25 or i %500==0, i is the iterstep)\n",
    "Riters = 10\n",
    "Diters = 5\n",
    "Diters = int(((Riters+1)/Riters*Diters))\n",
    "\n",
    "# directory to store log ,include loss  and grad_norm of generator and critic\n",
    "rgan_dir = './Inproved_rgan/cgan_2d/Experient_1'\n",
    "log_dir = rgan_dir + '/log_rgan'\n",
    "ckpt_dir = rgan_dir + '/ckpt_rgan'\n",
    "spec_dir = rgan_dir + '/spec_rgan'\n",
    "\n",
    "if not os.path.exists(log_dir):\n",
    "    os.makedirs(log_dir)\n",
    "if not os.path.exists(ckpt_dir):\n",
    "    os.makedirs(ckpt_dir)\n",
    "else:\n",
    "    shutil.rmtree(ckpt_dir)\n",
    "    os.makedirs(ckpt_dir)\n",
    "    \n",
    "if not os.path.exists(spec_dir):\n",
    "    os.makedirs(spec_dir)\n",
    "else:\n",
    "    shutil.rmtree(spec_dir)\n",
    "    os.makedirs(spec_dir)"
   ]
  },
  {
   "cell_type": "markdown",
   "metadata": {},
   "source": [
    "## Load dataset"
   ]
  },
  {
   "cell_type": "code",
   "execution_count": 3,
   "metadata": {
    "collapsed": false,
    "scrolled": true
   },
   "outputs": [
    {
     "data": {
      "image/png": "[encoded data removed]",
      "text/plain": [
       "<matplotlib.figure.Figure at 0xe158128>"
      ]
     },
     "metadata": {},
     "output_type": "display_data"
    }
   ],
   "source": [
    "# from database load the data and label,clip the length network required\n",
    "spect = scio.loadmat('NMR_Index.mat')\n",
    "x,y = spect['NMR'],spect['Index'][:,3]\n",
    "if x.shape[1]>img_dim:\n",
    "    x = x[:,:img_dim]\n",
    "# plot raw data    \n",
    "plt.plot(x.transpose())\n",
    "plt.show()\n",
    "\n",
    "# pre_processing by minmaxmap\n",
    "xmin, xmax, ymin, ymax = x.min(),x.max(), y.min(),y.max()\n",
    "x,y = (x - xmin)/( xmax - xmin ),(y - ymin)/( ymax - ymin )\n",
    "\n",
    "# reshape the data to the format that look like image\n",
    "x= x.reshape(-1,1,img_dim,1)"
   ]
  },
  {
   "cell_type": "markdown",
   "metadata": {},
   "source": [
    "## Generator"
   ]
  },
  {
   "cell_type": "code",
   "execution_count": 4,
   "metadata": {
    "collapsed": false
   },
   "outputs": [],
   "source": [
    "def generator_conv(z):\n",
    "    train = ly.fully_connected(z, 1024, activation_fn = tf.nn.relu, normalizer_fn=None)\n",
    "    train = ly.fully_connected(train, 256*172, activation_fn = tf.nn.relu, normalizer_fn=None)\n",
    "    train = tf.reshape(train,(-1,256,172,1))\n",
    "    train = ly.conv2d_transpose(train, 128, kernel_size=[5,1],stride=[2,1],data_format=data_format,\n",
    "                                activation_fn = tf.nn.relu, normalizer_fn = ly.batch_norm, padding='SAME',\n",
    "                                normalizer_params={'fused':True,'data_format':data_format,},\n",
    "                                weights_initializer = tf.random_normal_initializer(0,0.02))\n",
    "    train = ly.conv2d_transpose(train, 64, kernel_size=[5,1],stride=[2,1],data_format=data_format,\n",
    "                                activation_fn = tf.nn.relu, normalizer_fn = ly.batch_norm, padding='SAME',\n",
    "                                normalizer_params={'fused':True,'data_format':data_format,},\n",
    "                                weights_initializer = tf.random_normal_initializer(0,0.02))\n",
    "    train = ly.conv2d_transpose(train, channel , kernel_size=[5,1],stride=[1,1],data_format=data_format,\n",
    "                                activation_fn = tf.nn.tanh, padding='SAME',\n",
    "                                weights_initializer = tf.random_normal_initializer(0,0.02))\n",
    "    return train"
   ]
  },
  {
   "cell_type": "markdown",
   "metadata": {},
   "source": [
    "## Discriminator"
   ]
  },
  {
   "cell_type": "code",
   "execution_count": 5,
   "metadata": {
    "collapsed": true
   },
   "outputs": [],
   "source": [
    "def lrelu(x,leak=0.2,name='lrelu'):\n",
    "    with tf.variable_scope('lrelu'):\n",
    "        f1 = 0.5*(1+leak)\n",
    "        f2 = 0.5*(1-leak)\n",
    "        return f1*x + f2*abs(x)"
   ]
  },
  {
   "cell_type": "code",
   "execution_count": 6,
   "metadata": {
    "collapsed": false
   },
   "outputs": [],
   "source": [
    "def critic_conv(x,c,reuse=False):\n",
    "    with tf.variable_scope('discriminator') as scope:\n",
    "        if reuse:\n",
    "            scope.reuse_variables()\n",
    "        size = 16\n",
    "        \n",
    "        img = ly.conv2d(x,num_outputs=size*4,kernel_size=[10,1],stride=[2,1],padding='SAME',\n",
    "                       activation_fn = lrelu,data_format=data_format,\n",
    "                       weights_initializer = tf.random_normal_initializer(0,0.02))\n",
    "        \n",
    "        img = ly.conv2d(img,num_outputs= size*8 ,kernel_size=[10,1],stride=[2,1],padding='SAME',\n",
    "                        activation_fn = lrelu,data_format=data_format,normalizer_fn = ly.batch_norm,\n",
    "                        normalizer_params ={'fused':True,'data_format':data_format},\n",
    "                        weights_initializer = tf.random_normal_initializer(0,0.02))\n",
    "        \n",
    "        c = tf.tile(c,[1,int(img_dim/4)])\n",
    "        c = tf.reshape(c,(batch_size,1,int(img_dim/4),1))\n",
    "        img = tf.concat((c,img),axis=1)\n",
    "        \n",
    "        img = ly.conv2d(img,num_outputs= size*16,kernel_size=[10,1],stride=[2,1],padding='SAME',\n",
    "                        activation_fn = lrelu,data_format=data_format,normalizer_fn = ly.batch_norm,\n",
    "                        normalizer_params ={'fused':True,'data_format':data_format},\n",
    "                        weights_initializer = tf.random_normal_initializer(0,0.02))\n",
    "        \n",
    "        img = tf.reshape(img,[batch_size,-1])\n",
    "        # fully_connected\n",
    "        img = ly.fully_connected(img,1024,activation_fn=lrelu)\n",
    "        disc = ly.fully_connected(img,1,activation_fn=None)\n",
    "    \n",
    "    return disc"
   ]
  },
  {
   "cell_type": "markdown",
   "metadata": {},
   "source": [
    "## Build Graph & Loss Function"
   ]
  },
  {
   "cell_type": "code",
   "execution_count": 15,
   "metadata": {
    "collapsed": true
   },
   "outputs": [],
   "source": [
    "def build_graph(is_test=False):\n",
    "    ##########################  Inputs ######################################\n",
    "    # real data \n",
    "    real_data = tf.placeholder(dtype = tf.float32,shape=[batch_size,channel,img_dim,1])\n",
    "    real_label = tf.placeholder(dtype = tf.float32,shape =[batch_size,y_dim])\n",
    "    \n",
    "    # Noise\n",
    "    z_reg = tf.placeholder(dtype = tf.float32,shape =[batch_size,y_dim])\n",
    "    z_rand = tf.placeholder(dtype =tf.float32,shape =[batch_size,z_dim])\n",
    "    z = tf.concat([z_reg,z_rand],axis=1)\n",
    "    #########################  End Inputs #####################################\n",
    "    \n",
    "    ##########################  Graph   ######################################\n",
    "    generator = generator_conv\n",
    "    discriminator = critic_conv\n",
    "    \n",
    "    with tf.variable_scope('generator'):\n",
    "        gen = generator(z)\n",
    "    \n",
    "    disc_real = discriminator(real_data,real_label)\n",
    "    disc_fake = discriminator(gen,z_reg, reuse=True)\n",
    "\n",
    "    # Wasserstein distance\n",
    "    d_loss = tf.reduce_mean(disc_fake - disc_real)\n",
    "    g_loss = tf.reduce_mean( - disc_fake)\n",
    "    g_loss_summ = tf.summary.scalar('wasserstein_loss_g' , g_loss)\n",
    "    d_loss_summ = tf.summary.scalar('wasserstein_loss_d' , -d_loss)\n",
    "     \n",
    "    # Loss of Discriminator and Generator, Discriminator train on True and False data\n",
    "    loss_gen = g_loss\n",
    "    loss_dis = d_loss\n",
    "    \n",
    "    loss_gen_summ = tf.summary.scalar('generator_loss',loss_gen)\n",
    "    loss_dis_summ = tf.summary.scalar('discriminator_loss',loss_dis)\n",
    "    ########################### End Graph   ######################################\n",
    "    if is_test:\n",
    "        return gen,z_reg,z_rand\n",
    "    \n",
    "    ##################### Optimization ########################################\n",
    "    # Variable Collection\n",
    "    theta_g = tf.get_collection(tf.GraphKeys.TRAINABLE_VARIABLES,scope='generator')\n",
    "    theta_d = tf.get_collection(tf.GraphKeys.TRAINABLE_VARIABLES,scope='discriminator')\n",
    "\n",
    "    # Optimizers\n",
    "    counter_g = tf.Variable(trainable=False , initial_value=0,dtype=tf.int32)\n",
    "    opt_g = optimize(loss = loss_gen,variables=theta_g, learning_rate = learning_rate_gen,\n",
    "                    optimizer=tf.train.AdamOptimizer if is_adam is True else tf.train.RMSPropOptimizer,\n",
    "                    global_step=counter_g,summaries=['gradient_norm','gradients'])\n",
    "    \n",
    "    counter_d = tf.Variable(trainable=False , initial_value=0,dtype=tf.int32)\n",
    "    opt_d = optimize(loss =loss_dis,variables=theta_d ,learning_rate = learning_rate_dis,\n",
    "                    optimizer=tf.train.AdamOptimizer if is_adam is True else tf.train.RMSPropOptimizer,\n",
    "                    global_step=counter_d,summaries=['gradient_norm','gradients'])\n",
    "    \n",
    "    # Clip weights\n",
    "    clipped_var_d = [tf.assign(var,tf.clip_by_value(var,clamp_lower,clamp_upper)) for var in theta_d]\n",
    "    with tf.control_dependencies([opt_d]):\n",
    "        opt_d = tf.tuple(clipped_var_d)\n",
    "    ################################# End Optimization ################################################\n",
    "    return opt_d, opt_g ,real_data,real_label,z_reg,z_rand,loss_dis,loss_gen,gen"
   ]
  },
  {
   "cell_type": "markdown",
   "metadata": {},
   "source": [
    "####  Optimizer"
   ]
  },
  {
   "cell_type": "code",
   "execution_count": 8,
   "metadata": {
    "collapsed": true
   },
   "outputs": [],
   "source": [
    "def optimize(loss,learning_rate, optimizer,variables,global_step,summaries):\n",
    "    optim = optimizer(learning_rate=learning_rate)\n",
    "    \n",
    "    # Caculate gradients\n",
    "    gradients = optim.compute_gradients(loss,var_list = variables)\n",
    "    \n",
    "    # Add summary\n",
    "    if summaries is None:\n",
    "        summaries = ['loss','learning_rate']\n",
    "    if 'gradient_norm'  in summaries:\n",
    "        tf.summary.scalar('global_norm/gradient_norm',tf.global_norm(list(zip(*gradients))[0]))\n",
    "        \n",
    "    if 'loss' in summaries:\n",
    "        tf.summary.scalar('loss',loss)\n",
    "    \n",
    "    for gradient,variable in gradients:\n",
    "        if isinstance(gradient,tf.IndexedSlices):\n",
    "            grad_values = gradient.values\n",
    "        else:\n",
    "            grad_values = gradient\n",
    "        \n",
    "        if grad_values is not None:\n",
    "            var_name = variable.name.replace(':','_')\n",
    "            if 'gradients' in summaries:\n",
    "                tf.summary.histogram('gradients/%s'%var_name, grad_values)\n",
    "            \n",
    "            if 'gradient_norm' in summaries:\n",
    "                tf.summary.scalar('gradient_norm/%s'%var_name,tf.global_norm([grad_values]))\n",
    "    return optim.apply_gradients(gradients,global_step=global_step)\n",
    "        "
   ]
  },
  {
   "cell_type": "markdown",
   "metadata": {},
   "source": [
    "## Plot"
   ]
  },
  {
   "cell_type": "code",
   "execution_count": 38,
   "metadata": {
    "collapsed": true
   },
   "outputs": [],
   "source": [
    "def save_spectrum(gen, i=100000,spec_size = 10,is_show=False):\n",
    "    if gen.shape[0]<spec_size:\n",
    "        spec_size = gen.shape[0]\n",
    "\n",
    "    gen = gen[:spec_size]\n",
    "    # control the spect limitation and intv determine the the distance of spectrums\n",
    "    intv = 0\n",
    "    scale = 3.9\n",
    "    # extend along y axis to visulize the difference between spetrum\n",
    "    if is_show:\n",
    "        extd = np.matlib.repmat(np.arange(0,spec_size),img_dim,1) \n",
    "        extd = extd * scale*intv\n",
    "    else:\n",
    "        extd = np.zeros((img_dim, spec_size))\n",
    "    # convert data to ideal format    \n",
    "    spec = gen.reshape(spec_size,img_dim)*(xmax-xmin)+ xmin\n",
    "    spec = spec.transpose() + extd\n",
    "    \n",
    "    # plot the spectrum with ylimit legend and other thing\n",
    "    plt.figure(figsize=(10,8))\n",
    "    plt.plot(np.arange(spec.shape[0]),spec ,'-*')    \n",
    "    plt.legend([np.array_str(var) for var in np.arange(spec_size)])\n",
    "    if intv ==0:\n",
    "        plt.ylim([-0.5,scale])\n",
    "    else:\n",
    "        plt.ylim([-0.5,scale*spec_size*intv])\n",
    "    \n",
    "    \n",
    "    if is_show:\n",
    "        return plt.show()\n",
    "    # savefig\n",
    "    plt.savefig(spec_dir+'/'+str(i).zfill(4)+'.png')\n",
    "    plt.close('all')"
   ]
  },
  {
   "cell_type": "markdown",
   "metadata": {},
   "source": [
    "## Condictional WGAN Subphase "
   ]
  },
  {
   "cell_type": "code",
   "execution_count": 10,
   "metadata": {
    "collapsed": true
   },
   "outputs": [],
   "source": [
    "def train_wgan(max_iters = 1000):\n",
    "    \n",
    "    \n",
    "    with tf.device(device):\n",
    "        opt_d, opt_g ,real_data,real_label,z_reg,z_rand,loss_dis,loss_gen,gen = build_graph()\n",
    "        \n",
    "    saver = tf.train.Saver()\n",
    "    \n",
    "    def next_feed_dict(iter, shuffled = False):\n",
    "        if shuffled:\n",
    "            idx = np.random.randint(x.shape[0],size=(batch_size,))\n",
    "        else:\n",
    "            bat_num = int(x.shape[0]/batch_size)\n",
    "            par = int(1 % bat_num)\n",
    "            idx = np.arange(x.shape[0])[par * batch_size:(par+1)*batch_size]\n",
    "\n",
    "        train_img,train_label = x[idx],y[idx].reshape(batch_size,y_dim)\n",
    "        # False data which sigma = 0.3 mean most of point located in the [-1,1].\n",
    "        batch_z_rand = np.random.normal(0,0.3,[batch_size,z_dim]).astype(np.float32)\n",
    "            \n",
    "        feed_dict = {real_data:train_img, real_label:train_label, z_rand:batch_z_rand,z_reg:train_label}\n",
    "        return feed_dict\n",
    "    \n",
    "    config = tf.ConfigProto(allow_soft_placement = True,log_device_placement=True)\n",
    "    config.gpu_options.allow_growth =True\n",
    "    config.gpu_options.per_process_gpu_memory_fraction=0.9\n",
    "    \n",
    "    with tf.Session(config=config) as sess:\n",
    "        sess.run(tf.global_variables_initializer())\n",
    "\n",
    "        d_loss, g_loss=[], []\n",
    "        for i in range(max_iters):\n",
    "            feed_dict = next_feed_dict(i)\n",
    "            # training discriminator\n",
    "            _,loss_of_dis = sess.run([opt_d,loss_dis],feed_dict = feed_dict)\n",
    "            _,loss_of_gen,spec = sess.run([opt_g,loss_gen,gen],feed_dict = feed_dict)\n",
    "            \n",
    "            d_loss.append(loss_of_dis)\n",
    "            g_loss.append(loss_of_gen)\n",
    "            if i % 100 == 0:\n",
    "                print('the loss of discriminator is %0.3f'%loss_of_dis)\n",
    "                save_spectrum(spec, i)\n",
    "                print('the loss of generator is %0.3f'%loss_of_gen)\n",
    "            if i %1000 ==0:\n",
    "                saver.save(sess, os.path.join(ckpt_dir,'model_checkpoint'),global_step=i)\n",
    "                \n",
    "    return  d_loss,g_loss  \n",
    "    "
   ]
  },
  {
   "cell_type": "code",
   "execution_count": 11,
   "metadata": {
    "collapsed": true
   },
   "outputs": [
    {
     "name": "stdout",
     "output_type": "stream",
     "text": [
      "the loss of discriminator is 0.026\n",
      "the loss of generator is 0.555\n",
      "the loss of discriminator is -226.003\n",
      "the loss of generator is 62.815\n",
      "the loss of discriminator is -847.546\n",
      "the loss of generator is 390.583\n",
      "the loss of discriminator is -308.038\n",
      "the loss of generator is -98.197\n",
      "the loss of discriminator is -58.016\n",
      "the loss of generator is -350.618\n",
      "the loss of discriminator is -880.037\n",
      "the loss of generator is 412.880\n",
      "the loss of discriminator is -687.287\n",
      "the loss of generator is 312.458\n",
      "the loss of discriminator is -736.629\n",
      "the loss of generator is 393.119\n",
      "the loss of discriminator is -854.750\n",
      "the loss of generator is 412.421\n",
      "the loss of discriminator is -853.781\n",
      "the loss of generator is 412.756\n",
      "the loss of discriminator is -660.569\n",
      "the loss of generator is 326.634\n",
      "the loss of discriminator is -753.283\n",
      "the loss of generator is 353.653\n",
      "the loss of discriminator is 2.431\n",
      "the loss of generator is 399.624\n",
      "the loss of discriminator is 45.110\n",
      "the loss of generator is 227.154\n",
      "the loss of discriminator is -106.982\n",
      "the loss of generator is 152.586\n",
      "the loss of discriminator is -323.802\n",
      "the loss of generator is 224.279\n",
      "the loss of discriminator is -330.921\n",
      "the loss of generator is 125.635\n",
      "the loss of discriminator is -644.011\n",
      "the loss of generator is 288.504\n",
      "the loss of discriminator is -149.407\n",
      "the loss of generator is -147.050\n",
      "the loss of discriminator is -188.524\n",
      "the loss of generator is -110.085\n",
      "the loss of discriminator is -24.811\n",
      "the loss of generator is -324.376\n",
      "the loss of discriminator is -48.328\n",
      "the loss of generator is 70.721\n",
      "the loss of discriminator is -124.700\n",
      "the loss of generator is -0.560\n",
      "the loss of discriminator is -60.478\n",
      "the loss of generator is 17.092\n",
      "the loss of discriminator is -22.146\n",
      "the loss of generator is 63.926\n",
      "the loss of discriminator is -60.810\n",
      "the loss of generator is -26.922\n",
      "the loss of discriminator is -31.281\n",
      "the loss of generator is -92.856\n",
      "the loss of discriminator is 25.066\n",
      "the loss of generator is -91.297\n",
      "the loss of discriminator is -69.117\n",
      "the loss of generator is -92.696\n",
      "the loss of discriminator is -75.768\n",
      "the loss of generator is 89.290\n",
      "the loss of discriminator is -92.024\n",
      "the loss of generator is -48.599\n",
      "the loss of discriminator is -92.969\n",
      "the loss of generator is 109.678\n",
      "the loss of discriminator is -94.898\n",
      "the loss of generator is -53.786\n",
      "the loss of discriminator is -203.824\n",
      "the loss of generator is 72.172\n",
      "the loss of discriminator is -109.349\n",
      "the loss of generator is -25.546\n",
      "the loss of discriminator is -43.299\n",
      "the loss of generator is 74.181\n",
      "the loss of discriminator is -162.298\n",
      "the loss of generator is 127.273\n",
      "the loss of discriminator is -119.608\n",
      "the loss of generator is -76.503\n",
      "the loss of discriminator is -113.531\n",
      "the loss of generator is 75.384\n",
      "the loss of discriminator is -26.775\n",
      "the loss of generator is 37.034\n",
      "the loss of discriminator is -150.435\n",
      "the loss of generator is 95.589\n",
      "the loss of discriminator is -110.921\n",
      "the loss of generator is -18.325\n",
      "the loss of discriminator is -144.290\n",
      "the loss of generator is 148.422\n",
      "the loss of discriminator is -149.747\n",
      "the loss of generator is 39.466\n",
      "the loss of discriminator is -78.842\n",
      "the loss of generator is 142.778\n",
      "the loss of discriminator is -220.184\n",
      "the loss of generator is 161.551\n",
      "the loss of discriminator is -20.545\n",
      "the loss of generator is -190.857\n",
      "the loss of discriminator is -59.902\n",
      "the loss of generator is 65.672\n",
      "the loss of discriminator is -35.541\n",
      "the loss of generator is -80.451\n",
      "the loss of discriminator is -73.086\n",
      "the loss of generator is 78.069\n",
      "the loss of discriminator is -126.849\n",
      "the loss of generator is -68.241\n",
      "the loss of discriminator is -11.751\n",
      "the loss of generator is 203.476\n",
      "the loss of discriminator is -35.036\n",
      "the loss of generator is 160.879\n",
      "the loss of discriminator is 4.397\n",
      "the loss of generator is 85.355\n",
      "the loss of discriminator is 0.958\n",
      "the loss of generator is -1.241\n",
      "the loss of discriminator is 2.503\n",
      "the loss of generator is 16.709\n",
      "the loss of discriminator is -9.826\n",
      "the loss of generator is 4.846\n",
      "the loss of discriminator is -81.087\n",
      "the loss of generator is -132.179\n",
      "the loss of discriminator is 1.360\n",
      "the loss of generator is 1.140\n",
      "the loss of discriminator is 0.272\n",
      "the loss of generator is -10.597\n",
      "the loss of discriminator is -4.390\n",
      "the loss of generator is -15.908\n",
      "the loss of discriminator is -8.132\n",
      "the loss of generator is -159.710\n",
      "the loss of discriminator is 0.656\n",
      "the loss of generator is -0.057\n",
      "the loss of discriminator is -0.393\n",
      "the loss of generator is -2.903\n",
      "the loss of discriminator is -1.078\n",
      "the loss of generator is -4.669\n",
      "the loss of discriminator is -1.583\n",
      "the loss of generator is -4.412\n",
      "the loss of discriminator is -2.345\n",
      "the loss of generator is -3.720\n",
      "the loss of discriminator is -2.782\n",
      "the loss of generator is -4.292\n",
      "the loss of discriminator is -1.297\n",
      "the loss of generator is -7.469\n",
      "the loss of discriminator is 0.103\n",
      "the loss of generator is -15.517\n",
      "the loss of discriminator is -0.504\n",
      "the loss of generator is -16.658\n",
      "the loss of discriminator is -0.427\n",
      "the loss of generator is -17.972\n",
      "the loss of discriminator is -0.136\n",
      "the loss of generator is -20.551\n",
      "the loss of discriminator is -0.436\n",
      "the loss of generator is -21.221\n",
      "the loss of discriminator is -0.870\n",
      "the loss of generator is -48.768\n",
      "the loss of discriminator is -4.620\n",
      "the loss of generator is -85.246\n",
      "the loss of discriminator is -15.973\n",
      "the loss of generator is 204.163\n",
      "the loss of discriminator is -195.406\n",
      "the loss of generator is 31.246\n",
      "the loss of discriminator is -148.370\n",
      "the loss of generator is -36.407\n",
      "the loss of discriminator is 14.877\n",
      "the loss of generator is -259.329\n",
      "the loss of discriminator is -44.386\n",
      "the loss of generator is 118.398\n",
      "the loss of discriminator is -39.448\n",
      "the loss of generator is 60.963\n",
      "the loss of discriminator is -13.688\n",
      "the loss of generator is -69.346\n",
      "the loss of discriminator is -39.487\n",
      "the loss of generator is 8.051\n",
      "the loss of discriminator is -37.010\n",
      "the loss of generator is -52.402\n",
      "the loss of discriminator is -101.422\n",
      "the loss of generator is -16.361\n",
      "the loss of discriminator is -51.905\n",
      "the loss of generator is 180.089\n",
      "the loss of discriminator is -12.246\n",
      "the loss of generator is 19.012\n",
      "the loss of discriminator is -7.466\n",
      "the loss of generator is 10.778\n",
      "the loss of discriminator is -15.904\n",
      "the loss of generator is -99.874\n",
      "the loss of discriminator is 21.364\n",
      "the loss of generator is -63.066\n",
      "the loss of discriminator is -62.808\n",
      "the loss of generator is -189.465\n",
      "the loss of discriminator is 4.927\n",
      "the loss of generator is 140.208\n",
      "the loss of discriminator is -0.451\n",
      "the loss of generator is 80.439\n",
      "the loss of discriminator is -2.025\n",
      "the loss of generator is 8.409\n",
      "the loss of discriminator is -3.936\n",
      "the loss of generator is 5.477\n",
      "the loss of discriminator is -0.946\n",
      "the loss of generator is 0.289\n",
      "the loss of discriminator is -1.695\n",
      "the loss of generator is 0.227\n",
      "the loss of discriminator is -1.572\n",
      "the loss of generator is -0.838\n",
      "the loss of discriminator is -12.942\n",
      "the loss of generator is -44.548\n",
      "the loss of discriminator is -2.290\n",
      "the loss of generator is -68.092\n",
      "the loss of discriminator is -4.642\n",
      "the loss of generator is -96.777\n",
      "the loss of discriminator is -26.732\n",
      "the loss of generator is -154.706\n",
      "the loss of discriminator is -232.659\n",
      "the loss of generator is -104.127\n",
      "the loss of discriminator is 2.804\n",
      "the loss of generator is 140.753\n",
      "the loss of discriminator is -100.291\n",
      "the loss of generator is 159.332\n",
      "the loss of discriminator is -89.995\n",
      "the loss of generator is -105.016\n",
      "the loss of discriminator is -17.999\n",
      "the loss of generator is -121.304\n",
      "the loss of discriminator is 9.667\n",
      "the loss of generator is -233.877\n",
      "the loss of discriminator is -48.508\n",
      "the loss of generator is 115.102\n",
      "the loss of discriminator is -4.530\n",
      "the loss of generator is -3.189\n",
      "the loss of discriminator is -20.728\n",
      "the loss of generator is -200.008\n",
      "the loss of discriminator is -32.775\n",
      "the loss of generator is 37.143\n",
      "the loss of discriminator is -114.646\n",
      "the loss of generator is -92.010\n",
      "the loss of discriminator is -59.563\n",
      "the loss of generator is 3.879\n",
      "the loss of discriminator is -91.694\n",
      "the loss of generator is -146.124\n",
      "the loss of discriminator is -49.522\n",
      "the loss of generator is -82.218\n",
      "the loss of discriminator is -11.694\n",
      "the loss of generator is 98.945\n",
      "the loss of discriminator is 12.911\n",
      "the loss of generator is 19.320\n",
      "the loss of discriminator is -35.579\n",
      "the loss of generator is -43.285\n",
      "the loss of discriminator is -7.756\n",
      "the loss of generator is -27.613\n",
      "the loss of discriminator is -13.963\n",
      "the loss of generator is -65.693\n",
      "the loss of discriminator is 3.826\n",
      "the loss of generator is -84.824\n",
      "the loss of discriminator is -15.603\n",
      "the loss of generator is 35.988\n",
      "the loss of discriminator is -26.278\n",
      "the loss of generator is 104.903\n",
      "the loss of discriminator is -6.387\n",
      "the loss of generator is 13.271\n",
      "the loss of discriminator is -21.739\n",
      "the loss of generator is -9.883\n",
      "the loss of discriminator is -85.226\n",
      "the loss of generator is -33.803\n",
      "the loss of discriminator is -24.463\n",
      "the loss of generator is -202.703\n",
      "the loss of discriminator is 34.213\n",
      "the loss of generator is 47.444\n",
      "the loss of discriminator is -101.606\n",
      "the loss of generator is -105.324\n",
      "the loss of discriminator is -20.931\n",
      "the loss of generator is 163.968\n",
      "the loss of discriminator is -10.077\n",
      "the loss of generator is 32.566\n",
      "the loss of discriminator is -4.298\n",
      "the loss of generator is 37.016\n",
      "the loss of discriminator is -3.921\n",
      "the loss of generator is 58.713\n",
      "the loss of discriminator is -3.235\n",
      "the loss of generator is 36.051\n",
      "the loss of discriminator is -1.448\n",
      "the loss of generator is 25.050\n",
      "the loss of discriminator is 0.355\n",
      "the loss of generator is 3.013\n",
      "the loss of discriminator is -3.057\n",
      "the loss of generator is 36.384\n",
      "the loss of discriminator is -4.444\n",
      "the loss of generator is 35.607\n",
      "the loss of discriminator is -3.836\n",
      "the loss of generator is 34.046\n",
      "the loss of discriminator is -5.006\n",
      "the loss of generator is 31.318\n",
      "the loss of discriminator is -3.771\n",
      "the loss of generator is 29.438\n",
      "the loss of discriminator is -2.250\n",
      "the loss of generator is 22.832\n",
      "the loss of discriminator is -6.015\n",
      "the loss of generator is 51.847\n",
      "the loss of discriminator is -42.787\n",
      "the loss of generator is 23.286\n",
      "the loss of discriminator is -37.595\n",
      "the loss of generator is -83.308\n",
      "the loss of discriminator is -42.036\n",
      "the loss of generator is -127.183\n",
      "the loss of discriminator is -21.231\n",
      "the loss of generator is -104.881\n",
      "the loss of discriminator is -24.234\n",
      "the loss of generator is -208.536\n",
      "the loss of discriminator is -22.051\n",
      "the loss of generator is 40.260\n",
      "the loss of discriminator is -29.614\n",
      "the loss of generator is -55.329\n",
      "the loss of discriminator is -23.881\n",
      "the loss of generator is -116.657\n",
      "the loss of discriminator is -59.075\n",
      "the loss of generator is -52.220\n",
      "the loss of discriminator is -16.160\n",
      "the loss of generator is -36.063\n",
      "the loss of discriminator is -3.632\n",
      "the loss of generator is 128.306\n",
      "the loss of discriminator is -12.745\n",
      "the loss of generator is 122.833\n",
      "the loss of discriminator is -5.241\n",
      "the loss of generator is 20.465\n",
      "the loss of discriminator is -2.411\n",
      "the loss of generator is 24.010\n",
      "the loss of discriminator is -5.690\n",
      "the loss of generator is 20.205\n",
      "the loss of discriminator is -4.778\n",
      "the loss of generator is 20.505\n",
      "the loss of discriminator is -8.738\n",
      "the loss of generator is 25.895\n",
      "the loss of discriminator is -9.356\n",
      "the loss of generator is 20.353\n",
      "the loss of discriminator is -15.928\n",
      "the loss of generator is 81.968\n",
      "the loss of discriminator is -31.252\n",
      "the loss of generator is 60.298\n",
      "the loss of discriminator is -1.551\n",
      "the loss of generator is 92.986\n",
      "the loss of discriminator is -1.198\n",
      "the loss of generator is 68.084\n",
      "the loss of discriminator is 0.078\n",
      "the loss of generator is 50.027\n",
      "the loss of discriminator is -1.132\n",
      "the loss of generator is 54.209\n",
      "the loss of discriminator is -0.438\n",
      "the loss of generator is 14.111\n",
      "the loss of discriminator is -0.317\n",
      "the loss of generator is 15.276\n",
      "the loss of discriminator is -1.557\n",
      "the loss of generator is 14.217\n",
      "the loss of discriminator is -0.284\n",
      "the loss of generator is 8.329\n",
      "the loss of discriminator is -0.683\n",
      "the loss of generator is 12.015\n",
      "the loss of discriminator is -1.829\n",
      "the loss of generator is 15.445\n",
      "the loss of discriminator is -1.352\n",
      "the loss of generator is 11.178\n",
      "the loss of discriminator is -0.286\n",
      "the loss of generator is 6.320\n",
      "the loss of discriminator is -0.538\n",
      "the loss of generator is 8.119\n",
      "the loss of discriminator is -0.646\n",
      "the loss of generator is 3.688\n",
      "the loss of discriminator is -0.971\n",
      "the loss of generator is 6.807\n",
      "the loss of discriminator is -0.881\n",
      "the loss of generator is 6.659\n",
      "the loss of discriminator is -1.097\n",
      "the loss of generator is 5.018\n",
      "the loss of discriminator is -0.378\n",
      "the loss of generator is 2.722\n",
      "the loss of discriminator is -0.482\n",
      "the loss of generator is 6.524\n",
      "the loss of discriminator is -0.159\n",
      "the loss of generator is 3.744\n",
      "the loss of discriminator is -0.574\n",
      "the loss of generator is 3.692\n",
      "the loss of discriminator is -0.824\n",
      "the loss of generator is 7.306\n",
      "the loss of discriminator is 0.292\n",
      "the loss of generator is 2.222\n",
      "the loss of discriminator is -0.704\n",
      "the loss of generator is -1.483\n",
      "the loss of discriminator is -1.567\n",
      "the loss of generator is 10.232\n",
      "the loss of discriminator is -10.383\n",
      "the loss of generator is -52.201\n",
      "the loss of discriminator is -18.161\n",
      "the loss of generator is -54.126\n",
      "the loss of discriminator is -262.134\n",
      "the loss of generator is 13.464\n",
      "the loss of discriminator is -106.559\n",
      "the loss of generator is -163.613\n",
      "the loss of discriminator is -77.740\n",
      "the loss of generator is -69.649\n",
      "the loss of discriminator is -95.517\n",
      "the loss of generator is 61.434\n",
      "the loss of discriminator is -11.691\n",
      "the loss of generator is 72.892\n",
      "the loss of discriminator is -14.488\n",
      "the loss of generator is 28.375\n",
      "the loss of discriminator is -20.570\n",
      "the loss of generator is 27.091\n",
      "the loss of discriminator is -10.883\n",
      "the loss of generator is -36.183\n"
     ]
    }
   ],
   "source": [
    "tf.reset_default_graph()\n",
    "max_iters = 20000\n",
    "d_loss,g_loss = train_wgan(max_iters =max_iters)"
   ]
  },
  {
   "cell_type": "code",
   "execution_count": 12,
   "metadata": {
    "collapsed": false
   },
   "outputs": [
    {
     "data": {
      "image/png": "[encoded data removed]",
      "text/plain": [
       "<matplotlib.figure.Figure at 0x2b93eb38>"
      ]
     },
     "metadata": {},
     "output_type": "display_data"
    }
   ],
   "source": [
    "d_loss,g_loss = [np.array(var) for var in(d_loss,g_loss)]    \n",
    "plt.plot(np.arange(max_iters),d_loss,'-r',np.arange(max_iters),g_loss,'-b')\n",
    "plt.show()"
   ]
  },
  {
   "cell_type": "code",
   "execution_count": 13,
   "metadata": {
    "collapsed": false
   },
   "outputs": [
    {
     "data": {
      "image/png": "[encoded data removed]",
      "text/plain": [
       "<matplotlib.figure.Figure at 0xfe58048>"
      ]
     },
     "metadata": {},
     "output_type": "display_data"
    }
   ],
   "source": [
    "plt.plot(np.arange(max_iters),d_loss,'-r')\n",
    "plt.show()"
   ]
  },
  {
   "cell_type": "code",
   "execution_count": 14,
   "metadata": {
    "collapsed": false
   },
   "outputs": [
    {
     "data": {
      "image/png": "[encoded data removed]",
      "text/plain": [
       "<matplotlib.figure.Figure at 0x16fdc358>"
      ]
     },
     "metadata": {},
     "output_type": "display_data"
    }
   ],
   "source": [
    "plt.plot(np.arange(max_iters),g_loss,'-b')\n",
    "plt.show()"
   ]
  },
  {
   "cell_type": "code",
   "execution_count": 63,
   "metadata": {
    "collapsed": true
   },
   "outputs": [],
   "source": [
    "def test(ckpt_dir=ckpt_dir):\n",
    "    \n",
    "    with tf.Session(config = tf.ConfigProto(allow_soft_placement=True,log_device_placement=True)) as sess:\n",
    "        # build graph\n",
    "        with tf.device(device):\n",
    "            gen,z_reg,z_rand = build_graph(is_test=True)\n",
    "        \n",
    "        \n",
    "        # use saver to reload the parametes\n",
    "        saver = tf.train.Saver()\n",
    "        saver.restore(sess, './Inproved_rgan/cgan_2d/Experient_1/ckpt_rgan\\\\model_checkpoint-17000')\n",
    "        \n",
    "        \n",
    "        ###########################################  Experiment : Generator #################\n",
    "        # Gererate random labels as conditions , [0,1] gausson distribution\n",
    "        batch_z_rand = np.random.normal(0,0.3,[batch_size,z_dim]).astype(np.float32)\n",
    "        y_generated = np.linspace(0,1,batch_size).reshape(batch_size,1)\n",
    "        \n",
    "        test_gen = sess.run(gen,feed_dict={z_rand:batch_z_rand,z_reg:y_generated}) \n",
    "        \n",
    "        # Visualize the result\n",
    "        #save_spectrum(test_gen,spec_size=5,is_show=True)\n",
    "        \n",
    "        \n",
    "        ##\n",
    "        batch_z_rand = np.random.normal(0,0.3,[batch_size,z_dim]).astype(np.float32)\n",
    "        y_generated = y[:batch_size].reshape(batch_size,1)\n",
    "        test_gen =sess.run(gen,feed_dict={z_rand:batch_z_rand,z_reg:y_generated})\n",
    "        \n",
    "        save_spectrum(np.concatenate((test_gen[1],x[1]),axis=0),spec_size=2,is_show=True)\n",
    "        \n",
    "        "
   ]
  },
  {
   "cell_type": "code",
   "execution_count": 64,
   "metadata": {
    "collapsed": false
   },
   "outputs": [
    {
     "name": "stdout",
     "output_type": "stream",
     "text": [
      "INFO:tensorflow:Restoring parameters from ./Inproved_rgan/cgan_2d/Experient_1/ckpt_rgan\\model_checkpoint-17000\n"
     ]
    },
    {
     "data": {
      "image/png": "[encoded data removed]",
      "text/plain": [
       "<matplotlib.figure.Figure at 0xfa80f60>"
      ]
     },
     "metadata": {},
     "output_type": "display_data"
    }
   ],
   "source": [
    "tf.reset_default_graph()\n",
    "test()"
   ]
  },
  {
   "cell_type": "code",
   "execution_count": 30,
   "metadata": {
    "collapsed": false
   },
   "outputs": [
    {
     "data": {
      "text/plain": [
       "'./Inproved_rgan/cgan_2d/Experient_1/ckpt_rgan\\\\model_checkpoint-19000'"
      ]
     },
     "execution_count": 30,
     "metadata": {},
     "output_type": "execute_result"
    }
   ],
   "source": [
    "tf.train.latest_checkpoint(ckpt_dir)"
   ]
  },
  {
   "cell_type": "code",
   "execution_count": 31,
   "metadata": {
    "collapsed": false
   },
   "outputs": [
    {
     "data": {
      "text/plain": [
       "'./Inproved_rgan/cgan_2d/Experient_1/ckpt_rgan'"
      ]
     },
     "execution_count": 31,
     "metadata": {},
     "output_type": "execute_result"
    }
   ],
   "source": [
    "ckpt_dir"
   ]
  },
  {
   "cell_type": "code",
   "execution_count": null,
   "metadata": {
    "collapsed": true
   },
   "outputs": [],
   "source": []
  }
 ],
 "metadata": {
  "anaconda-cloud": {},
  "kernelspec": {
   "display_name": "Python [conda root]",
   "language": "python",
   "name": "conda-root-py"
  },
  "language_info": {
   "codemirror_mode": {
    "name": "ipython",
    "version": 3
   },
   "file_extension": ".py",
   "mimetype": "text/x-python",
   "name": "python",
   "nbconvert_exporter": "python",
   "pygments_lexer": "ipython3",
   "version": "3.5.2"
  }
 },
 "nbformat": 4,
 "nbformat_minor": 1
}
