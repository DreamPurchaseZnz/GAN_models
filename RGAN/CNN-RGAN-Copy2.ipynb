{
 "cells": [
  {
   "cell_type": "markdown",
   "metadata": {},
   "source": [
    "### Load Module"
   ]
  },
  {
   "cell_type": "code",
   "execution_count": 1,
   "metadata": {
    "collapsed": false
   },
   "outputs": [],
   "source": [
    "import tensorflow as tf\n",
    "import tensorflow.contrib.layers as ly\n",
    "\n",
    "import os\n",
    "import shutil\n",
    "import numpy as np\n",
    "import matplotlib.pyplot as plt\n",
    "import scipy.io as scio\n",
    "from sklearn.model_selection import train_test_split\n",
    "from sklearn.metrics import r2_score\n",
    "import _pickle as pickle\n",
    "import pandas as pd\n",
    "from collections import defaultdict\n",
    "\n",
    "from scipy.signal import savgol_filter as sg"
   ]
  },
  {
   "cell_type": "markdown",
   "metadata": {},
   "source": [
    "### Parameter"
   ]
  },
  {
   "cell_type": "code",
   "execution_count": 2,
   "metadata": {
    "collapsed": false
   },
   "outputs": [],
   "source": [
    "# Inputs:Global parameters \n",
    "batch_size = 32\n",
    "img_dim = 688\n",
    "y_dim = 1 # the number of continous variables\n",
    "is_adam = True\n",
    "learning_rate_cnn = 2e-4\n",
    "\n",
    "# Train : Prameters\n",
    "max_iter_step = 10000\n",
    "device = '/gpu:0'\n",
    "data_format = 'NCHW'\n",
    "channel = 1\n",
    "# directory to store log ,include loss  and grad_norm of generator and critic\n",
    "rgan_dir = './Inproved_rgan/RGAN/Experient_3'\n",
    "cnn_dir = rgan_dir+'/cnn_ckpt'\n",
    "if not os.path.exists(cnn_dir):\n",
    "    os.makedirs(cnn_dir)\n",
    "else:\n",
    "    shutil.rmtree(cnn_dir)\n",
    "    os.makedirs(cnn_dir)"
   ]
  },
  {
   "cell_type": "markdown",
   "metadata": {},
   "source": [
    "### Load dataset"
   ]
  },
  {
   "cell_type": "code",
   "execution_count": 3,
   "metadata": {
    "collapsed": false
   },
   "outputs": [
    {
     "data": {
      "image/png": "[encoded data removed]",
      "text/plain": [
       "<matplotlib.figure.Figure at 0xe211588>"
      ]
     },
     "metadata": {},
     "output_type": "display_data"
    }
   ],
   "source": [
    "# from database load the data and label,clip the length network required\n",
    "spect = scio.loadmat('NMR_Index.mat')\n",
    "x,y = spect['NMR'],spect['Index'][:,3]\n",
    "if x.shape[1]>img_dim:\n",
    "    x = x[:,:img_dim]\n",
    "# plot raw data \n",
    "plt.figure(figsize=[6,4])\n",
    "plt.plot(x.transpose())\n",
    "plt.show()\n",
    "\n",
    "# pre_processing by minmaxmap\n",
    "xmin, xmax, ymin, ymax = x.min(),x.max(), y.min(),y.max()\n",
    "xmid,ymid = (xmin+xmax)/2,(ymin+ymax)/2\n",
    "x,y = (x - xmid)*2/( xmax - xmin ),(y - ymid)*2/( ymax - ymin )\n",
    "\n",
    "# reshape the data to the format that look like image\n",
    "x= x.reshape(-1,1,img_dim,1)\n",
    "y= y.reshape(-1,y_dim)\n",
    "## split the dataset\n",
    "x_train,x_test,y_train,y_test =train_test_split(x,y,test_size=0.20,random_state=0)"
   ]
  },
  {
   "cell_type": "markdown",
   "metadata": {},
   "source": [
    "### Build cnn"
   ]
  },
  {
   "cell_type": "code",
   "execution_count": 4,
   "metadata": {
    "collapsed": true
   },
   "outputs": [],
   "source": [
    "def lrelu(x,leak=0.2,name='lrelu'):\n",
    "    with tf.variable_scope('lrelu'):\n",
    "        f1 = 0.5*(1+leak)\n",
    "        f2 = 0.5*(1-leak)\n",
    "        return f1*x + f2*abs(x)"
   ]
  },
  {
   "cell_type": "code",
   "execution_count": 32,
   "metadata": {
    "collapsed": true
   },
   "outputs": [],
   "source": [
    "def cnn_conv(x):\n",
    "    size = 16\n",
    "    cnn = ly.conv2d(x,num_outputs=size*2,kernel_size=[10,1],stride=[1,1],padding='SAME',\n",
    "                       activation_fn = lrelu,data_format=data_format,\n",
    "                       weights_initializer = tf.random_normal_initializer(0,0.02))\n",
    "    \n",
    "    cnn = ly.max_pool2d(cnn,(2,1),1)\n",
    "    \n",
    "    cnn = ly.conv2d(x,num_outputs=size*4,kernel_size=[10,1],stride=[1,1],padding='SAME',\n",
    "                       activation_fn = lrelu,data_format=data_format,\n",
    "                       weights_initializer = tf.random_normal_initializer(0,0.02))\n",
    "    \n",
    "    cnn = ly.max_pool2d(cnn,(2,1),1)\n",
    "    cnn = ly.dropout(cnn,0.2)\n",
    "        \n",
    "    cnn = ly.flatten(cnn)\n",
    "    cnn = ly.fully_connected(cnn,128,activation_fn=lrelu,normalizer_fn = ly.batch_norm,\n",
    "                        normalizer_params ={'fused':True,'data_format':data_format})\n",
    "    cnn = ly.dropout(cnn,0.2)\n",
    "\n",
    "    out = ly.fully_connected(cnn,y_dim,activation_fn=tf.nn.tanh)\n",
    "    \n",
    "    return out"
   ]
  },
  {
   "cell_type": "markdown",
   "metadata": {},
   "source": [
    "### Build Graph & Loss"
   ]
  },
  {
   "cell_type": "code",
   "execution_count": 6,
   "metadata": {
    "collapsed": true
   },
   "outputs": [],
   "source": [
    "def build_graph():\n",
    "    # Input\n",
    "    x = tf.placeholder(dtype=tf.float32,shape=[None,channel,img_dim,1])\n",
    "    y = tf.placeholder(dtype=tf.float32,shape=[None,y_dim])\n",
    "    \n",
    "    # Graph\n",
    "    with tf.variable_scope('generator'):\n",
    "        predict = cnn_conv(x)\n",
    "    \n",
    "    # Loss\n",
    "    cnn_loss = tf.reduce_mean(tf.reduce_sum(0.5*tf.square(predict-y),reduction_indices=1))\n",
    "    \n",
    "    # Parameters\n",
    "    theta_cnn = tf.get_collection(tf.GraphKeys.TRAINABLE_VARIABLES, scope ='generator')\n",
    "    \n",
    "    # Optimizers\n",
    "    counter_g = tf.Variable(trainable=False , initial_value=0,dtype=tf.int32)\n",
    "    opt_cnn = optimize(loss = cnn_loss, variables =theta_cnn,learning_rate =  learning_rate_cnn,\n",
    "                      optimizer = tf.train.AdamOptimizer if is_adam is True else tf.train.RMSPropOptimizer,\n",
    "                      global_step = counter_g)\n",
    "    \n",
    "    return opt_cnn,x,y,cnn_loss,predict"
   ]
  },
  {
   "cell_type": "code",
   "execution_count": 7,
   "metadata": {
    "collapsed": true
   },
   "outputs": [],
   "source": [
    "def optimize(loss,learning_rate,optimizer, variables,global_step):\n",
    "    optim = optimizer(learning_rate = learning_rate)\n",
    "    \n",
    "    gradients = optim.compute_gradients(loss, var_list = variables)\n",
    "    \n",
    "    return optim.apply_gradients(gradients,global_step = global_step)"
   ]
  },
  {
   "cell_type": "code",
   "execution_count": 8,
   "metadata": {
    "collapsed": false
   },
   "outputs": [],
   "source": [
    "def train_cnn( max_epochs=1000):\n",
    "    with tf.device(device):\n",
    "        opt_cnn, x, y, cnn_loss,predict = build_graph()\n",
    "    saver = tf.train.Saver()\n",
    "    \n",
    "    def next_feed_dict(iter, shuffled=True , is_test=False):\n",
    "        def generate_index(input,iter,shuffled =False):\n",
    "            input_number = input.shape[0]\n",
    "            if shuffled:\n",
    "                idx = np.random.randint(input_number,size=(batch_size,))\n",
    "            else:\n",
    "                bat_num = int(input_number/batch_size)\n",
    "                par = int(iter % bat_num)\n",
    "                idx = np.arange(input_number)[par * batch_size:(par+1)*batch_size]\n",
    "            return idx\n",
    "        \n",
    "        if is_test:\n",
    "            idx = generate_index(x_test,iter)\n",
    "            feed_img,feed_label = x_test[idx],y_test[idx]\n",
    "        else:\n",
    "            idx = generate_index(x_train,iter)\n",
    "            feed_img,feed_label = x_train[idx],y_train[idx]\n",
    "            \n",
    "        \n",
    "        feed_dict = {x:feed_img, \n",
    "                     y:feed_label}\n",
    "        \n",
    "        return feed_dict\n",
    "    \n",
    "    config = tf.ConfigProto(allow_soft_placement= True,log_device_placement=True)\n",
    "    config.gpu_options.allow_growth = True\n",
    "    config.gpu_options.per_process_gpu_memory_fraction = 0.9\n",
    "    \n",
    "    \n",
    "    with tf.Session(config = config) as sess:\n",
    "        sess.run(tf.global_variables_initializer())\n",
    "        # for analysising the result\n",
    "        hist_loss = defaultdict(list)\n",
    "        \n",
    "        train_epoch_iters = int(x_train.shape[0]/batch_size)+1\n",
    "        test_epoch_iters = int(x_test.shape[0]/batch_size)+1\n",
    "        \n",
    "        for i in range(max_epochs):\n",
    "            \n",
    "            # Training\n",
    "            train_history = []\n",
    "            for j in range(train_epoch_iters):\n",
    "                feed_dict = next_feed_dict(i*train_epoch_iters+j)\n",
    "                _,t_loss = sess.run([opt_cnn,cnn_loss], feed_dict = feed_dict)\n",
    "                \n",
    "                train_history.append(t_loss)\n",
    "                \n",
    "            hist_loss['Training'].append(np.mean(np.array(train_history)))\n",
    "            \n",
    "            # Testing\n",
    "            test_history = []\n",
    "            for k in range(test_epoch_iters):\n",
    "                feed_dict = next_feed_dict(i*test_epoch_iters+k,is_test = True)\n",
    "                s_loss = sess.run(cnn_loss,feed_dict = feed_dict)\n",
    "                test_history.append(s_loss)\n",
    "            \n",
    "            hist_loss['Testing'].append(np.mean(np.array(test_history)))\n",
    "            \n",
    "            if i % 100 ==0:\n",
    "                print('Iteration: {:>5d} of {}:{:>15.4f}|{:<15.4f}'.format(i ,max_epochs,hist_loss['Training'][-1],hist_loss['Testing'][-1]))\n",
    "            \n",
    "            if i % 100 ==0:\n",
    "                saver.save(sess,os.path.join(cnn_dir ,'model_checkpoint'),global_step=i)\n",
    "        \n",
    "        pickle.dump(hist_loss, open(rgan_dir+'/cnn_pickle.pkl','wb'))\n",
    "        "
   ]
  },
  {
   "cell_type": "code",
   "execution_count": 33,
   "metadata": {
    "collapsed": false
   },
   "outputs": [
    {
     "name": "stdout",
     "output_type": "stream",
     "text": [
      "Iteration:     0 of 1000:         0.3705|0.3842         \n",
      "Iteration:   100 of 1000:         0.3327|0.3128         \n",
      "Iteration:   200 of 1000:         0.1290|0.1360         \n",
      "Iteration:   300 of 1000:         0.0727|0.0798         \n",
      "Iteration:   400 of 1000:         0.0700|0.0729         \n",
      "Iteration:   500 of 1000:         0.0669|0.0736         \n",
      "Iteration:   600 of 1000:         0.0680|0.0821         \n",
      "Iteration:   700 of 1000:         0.0631|0.0760         \n",
      "Iteration:   800 of 1000:         0.0619|0.0723         \n",
      "Iteration:   900 of 1000:         0.0623|0.0764         \n"
     ]
    }
   ],
   "source": [
    "tf.reset_default_graph()\n",
    "train_cnn( max_epochs = 1000)"
   ]
  },
  {
   "cell_type": "markdown",
   "metadata": {},
   "source": [
    "### Show The Result & Contrast"
   ]
  },
  {
   "cell_type": "markdown",
   "metadata": {},
   "source": [
    "Load from RGAN"
   ]
  },
  {
   "cell_type": "code",
   "execution_count": 34,
   "metadata": {
    "collapsed": false
   },
   "outputs": [],
   "source": [
    "hist_ = pickle.load(open('./Inproved_rgan/RGAN/Experient_7'+'/rgan_pickle.pkl','rb'))"
   ]
  },
  {
   "cell_type": "code",
   "execution_count": 35,
   "metadata": {
    "collapsed": true
   },
   "outputs": [],
   "source": [
    "losses = ['generator','discriminator','Q network','Q_continous','Q_categorical']\n",
    "for p in hist_.keys():\n",
    "    hist_[p] = pd.DataFrame(hist_[p],columns=losses)"
   ]
  },
  {
   "cell_type": "code",
   "execution_count": 36,
   "metadata": {
    "collapsed": false
   },
   "outputs": [],
   "source": [
    "loss_ =[]\n",
    "for p in hist_.keys():\n",
    "    p_ = np.array(hist_[p]['Q network'])\n",
    "    #loss_.append(sg(p_ , window_length=9 , polyorder=1))\n",
    "    loss_.append(p_)"
   ]
  },
  {
   "cell_type": "markdown",
   "metadata": {},
   "source": [
    "Load from CNN"
   ]
  },
  {
   "cell_type": "code",
   "execution_count": 37,
   "metadata": {
    "collapsed": false
   },
   "outputs": [],
   "source": [
    "hist = pickle.load(open(rgan_dir+'/cnn_pickle.pkl','rb'))"
   ]
  },
  {
   "cell_type": "code",
   "execution_count": 38,
   "metadata": {
    "collapsed": false
   },
   "outputs": [],
   "source": [
    "loss = []\n",
    "for p in hist.keys():\n",
    "    p_ = np.array(hist[p])\n",
    "    #loss.append(sg(p_ , window_length=9 , polyorder=1))\n",
    "    loss.append(p_)"
   ]
  },
  {
   "cell_type": "code",
   "execution_count": 39,
   "metadata": {
    "collapsed": false
   },
   "outputs": [
    {
     "data": {
      "image/png": "[encoded data removed]",
      "text/plain": [
       "<matplotlib.figure.Figure at 0x1685a668>"
      ]
     },
     "metadata": {},
     "output_type": "display_data"
    },
    {
     "data": {
      "image/png": "[encoded data removed]",
      "text/plain": [
       "<matplotlib.figure.Figure at 0x1687c9b0>"
      ]
     },
     "metadata": {},
     "output_type": "display_data"
    }
   ],
   "source": [
    "for p,q,s in zip(loss_ ,loss ,['train','test']):\n",
    "    plt.figure(figsize=[10,8])\n",
    "    plt.plot(np.arange(len(p)),p,'b-',np.arange(len(q)),q,'--r',ms=4) \n",
    "    plt.legend([s+' RGAN loss',s+' CNN loss'])\n",
    "    plt.title(s+' loss per epochs')\n",
    "    plt.xlabel('epoch')\n",
    "    plt.ylabel(r'Loss $L_C$ ')\n",
    "    plt.show()"
   ]
  },
  {
   "cell_type": "code",
   "execution_count": 40,
   "metadata": {
    "collapsed": false
   },
   "outputs": [],
   "source": [
    "def test(cnn_dir=cnn_dir,test_epoch=5000):\n",
    "    \n",
    "    with tf.Session(config = tf.ConfigProto(allow_soft_placement=True,log_device_placement=True)) as sess:\n",
    "        # build graph\n",
    "        with tf.device(device):\n",
    "            opt_cnn, x, y, cnn_loss,predict = build_graph()\n",
    "        \n",
    "        # use saver to reload the parametes\n",
    "        saver = tf.train.Saver()\n",
    "        #saver.restore(sess, './Inproved_rgan/cgan_2d/Experient_1/ckpt_rgan\\\\model_checkpoint-17000')\n",
    "        #saver.restore(sess,cnn_dir+'\\\\model_checkpoint-'+str(test_epoch))\n",
    "        saver.restore(sess,tf.train.latest_checkpoint(cnn_dir))\n",
    "        ###########################################  Experiment : Generator #################\n",
    "        # Gererate random labels as conditions , [0,1] gausson distribution\n",
    "        def cv_proc(y):\n",
    "            y = ymid + y*(ymax-ymin)/2\n",
    "            return y\n",
    "        \n",
    "        y_train_predict,y_test_predict = cv_proc(sess.run(predict,{x:x_train})),cv_proc(sess.run(predict,{x:x_test}))\n",
    "        r_train,r_test = r2_score(cv_proc(y_train),y_train_predict),r2_score(cv_proc(y_test),y_test_predict)\n",
    "    \n",
    "    return [y_train_predict,cv_proc(y_train)],[y_test_predict,cv_proc(y_test)],[r_train,r_test]"
   ]
  },
  {
   "cell_type": "code",
   "execution_count": 41,
   "metadata": {
    "collapsed": false
   },
   "outputs": [
    {
     "name": "stdout",
     "output_type": "stream",
     "text": [
      "INFO:tensorflow:Restoring parameters from ./Inproved_rgan/RGAN/Experient_3/cnn_ckpt\\model_checkpoint-900\n"
     ]
    }
   ],
   "source": [
    "tf.reset_default_graph()\n",
    "y_train_ ,y_test_,r_ = test(test_epoch=19900)"
   ]
  },
  {
   "cell_type": "code",
   "execution_count": 42,
   "metadata": {
    "collapsed": false
   },
   "outputs": [
    {
     "name": "stdout",
     "output_type": "stream",
     "text": [
      "r -> 0.244 | 0.336\n"
     ]
    }
   ],
   "source": [
    "print('r -> {:.3f} | {:.3f}'.format(*r_))"
   ]
  },
  {
   "cell_type": "code",
   "execution_count": null,
   "metadata": {
    "collapsed": false
   },
   "outputs": [],
   "source": [
    "x_limit = np.arange(len(y_train_[1]))\n",
    "plt.figure(figsize=[10,8])\n",
    "plt.plot(x_limit,y_train_[0],'b-o',x_limit,y_train_[1],'--r*',ms=4)\n",
    "plt.legend(['Predict','Under Truth'])\n",
    "plt.show()"
   ]
  },
  {
   "cell_type": "code",
   "execution_count": null,
   "metadata": {
    "collapsed": false
   },
   "outputs": [],
   "source": [
    "x_limit = np.arange(len(y_test_[1]))\n",
    "plt.figure(figsize=[10,8])\n",
    "plt.plot(x_limit,y_test_[0],'b-o',x_limit,y_test_[1],'--r*',ms=4)\n",
    "plt.legend(['Predict','Under Truth'])\n",
    "plt.show()"
   ]
  },
  {
   "cell_type": "markdown",
   "metadata": {},
   "source": [
    "### RGAN on Restricted Layer"
   ]
  },
  {
   "cell_type": "code",
   "execution_count": null,
   "metadata": {
    "collapsed": false
   },
   "outputs": [],
   "source": [
    "def load_rgans_loss(i ,loss_name = 'Q network'):\n",
    "    hist_ = pickle.load(open('./Inproved_rgan/RGAN/Experient_'+str(i)+'/rgan_pickle.pkl','rb'))\n",
    "    losses = ['generator','discriminator','Q network','Q_continous','Q_categorical']\n",
    "    for p in hist_.keys():\n",
    "        hist_[p] = pd.DataFrame(hist_[p],columns=losses)\n",
    "\n",
    "    loss_ =[]\n",
    "    for p in hist_.keys():\n",
    "        p_ = np.array(hist_[p][loss_name])\n",
    "        #loss_.append(sg(p_ , window_length=9 , polyorder=1))\n",
    "        loss_.append(p_)\n",
    "    return loss_"
   ]
  },
  {
   "cell_type": "code",
   "execution_count": null,
   "metadata": {
    "collapsed": false
   },
   "outputs": [],
   "source": [
    "def rgan_loss_plot(loss_,loss,legend =[' RGAN level 1 loss',' RGAN level 2 loss'] ):\n",
    "    for p,q,s in zip(loss_ ,loss ,['train','test']):\n",
    "        plt.figure(figsize=[10,8])\n",
    "        plt.plot(np.arange(len(p)),p,'b-',np.arange(len(q)),q,'--r',ms=4) \n",
    "        plt.legend([s+legend[0],s+legend[1]])\n",
    "        plt.title(s+' Loss per iteration')\n",
    "        plt.xlabel('iteration')\n",
    "        plt.ylabel(r'Loss $L_C$ ')\n",
    "        plt.show()"
   ]
  },
  {
   "cell_type": "code",
   "execution_count": null,
   "metadata": {
    "collapsed": false
   },
   "outputs": [],
   "source": [
    "rgan_copy2_loss = load_rgans_loss(8,'Q network')"
   ]
  },
  {
   "cell_type": "code",
   "execution_count": null,
   "metadata": {
    "collapsed": true
   },
   "outputs": [],
   "source": [
    "rgan_copy3_loss = load_rgans_loss(9,'Q network')"
   ]
  },
  {
   "cell_type": "code",
   "execution_count": null,
   "metadata": {
    "collapsed": false
   },
   "outputs": [],
   "source": [
    "rgan_loss_plot(rgan_copy2_loss,rgan_copy3_loss,legend =[' RGAN level 1 loss',' RGAN level 2 loss'])"
   ]
  },
  {
   "cell_type": "markdown",
   "metadata": {},
   "source": [
    "### RGAN on CGAN and GAN"
   ]
  },
  {
   "cell_type": "code",
   "execution_count": null,
   "metadata": {
    "collapsed": true
   },
   "outputs": [],
   "source": [
    "rgan_copy2_loss = load_rgans_loss(8,'Q network')\n",
    "rgan_loss = load_rgans_loss(6,'Q network')"
   ]
  },
  {
   "cell_type": "code",
   "execution_count": null,
   "metadata": {
    "collapsed": false
   },
   "outputs": [],
   "source": [
    "rgan_loss_plot(rgan_copy2_loss,rgan_loss,legend =[' RGAN Conditional loss',' RGAN GAN loss'])"
   ]
  },
  {
   "cell_type": "code",
   "execution_count": null,
   "metadata": {
    "collapsed": true
   },
   "outputs": [],
   "source": [
    "rgan_copy2_loss = load_rgans_loss(8,'generator')\n",
    "rgan_loss = load_rgans_loss(6,'generator')"
   ]
  },
  {
   "cell_type": "code",
   "execution_count": null,
   "metadata": {
    "collapsed": false
   },
   "outputs": [],
   "source": [
    "rgan_loss_plot(rgan_copy2_loss,rgan_loss,legend =[' RGAN Conditional loss',' RGAN GAN loss'])"
   ]
  },
  {
   "cell_type": "code",
   "execution_count": null,
   "metadata": {
    "collapsed": false
   },
   "outputs": [],
   "source": [
    "rgan_copy2_loss = load_rgans_loss(8,'discriminator')\n",
    "rgan_loss = load_rgans_loss(6,'discriminator')\n",
    "\n",
    "rgan_loss_plot(rgan_copy2_loss,rgan_loss,legend =[' RGAN CGAN loss',' RGAN GAN loss'])"
   ]
  },
  {
   "cell_type": "markdown",
   "metadata": {},
   "source": [
    "### RGAN on GAN and ACGAN"
   ]
  },
  {
   "cell_type": "code",
   "execution_count": null,
   "metadata": {
    "collapsed": false,
    "scrolled": true
   },
   "outputs": [],
   "source": [
    "rgan_copy2_loss = load_rgans_loss(8,'generator')\n",
    "rgan_copy5_loss = load_rgans_loss(11,'generator')\n",
    "\n",
    "rgan_loss_plot(rgan_copy2_loss,rgan_copy5_loss,legend =[' RGAN CGAN loss',' RGAN ACGAN loss'])"
   ]
  },
  {
   "cell_type": "code",
   "execution_count": null,
   "metadata": {
    "collapsed": false
   },
   "outputs": [],
   "source": [
    "rgan_copy2_loss = load_rgans_loss(8,'discriminator')\n",
    "rgan_copy5_loss = load_rgans_loss(11,'discriminator')\n",
    "\n",
    "rgan_loss_plot(rgan_copy2_loss,rgan_copy5_loss,legend =[' RGAN CGAN loss',' RGAN ACGAN loss'])"
   ]
  },
  {
   "cell_type": "code",
   "execution_count": null,
   "metadata": {
    "collapsed": false
   },
   "outputs": [],
   "source": [
    "rgan_copy2_loss = load_rgans_loss(8,'Q network')\n",
    "rgan_copy5_loss = load_rgans_loss(11,'Q network')\n",
    "\n",
    "rgan_loss_plot(rgan_copy2_loss,rgan_copy5_loss,legend =[' RGAN CGAN loss',' RGAN ACGAN loss'])"
   ]
  },
  {
   "cell_type": "code",
   "execution_count": null,
   "metadata": {
    "collapsed": true
   },
   "outputs": [],
   "source": []
  }
 ],
 "metadata": {
  "anaconda-cloud": {},
  "kernelspec": {
   "display_name": "Python [conda root]",
   "language": "python",
   "name": "conda-root-py"
  },
  "language_info": {
   "codemirror_mode": {
    "name": "ipython",
    "version": 3
   },
   "file_extension": ".py",
   "mimetype": "text/x-python",
   "name": "python",
   "nbconvert_exporter": "python",
   "pygments_lexer": "ipython3",
   "version": "3.5.2"
  }
 },
 "nbformat": 4,
 "nbformat_minor": 1
}
