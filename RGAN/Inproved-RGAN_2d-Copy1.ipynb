{
 "cells": [
  {
   "cell_type": "markdown",
   "metadata": {},
   "source": [
    "## Load Module"
   ]
  },
  {
   "cell_type": "code",
   "execution_count": 1,
   "metadata": {
    "collapsed": true
   },
   "outputs": [],
   "source": [
    "import tensorflow as tf\n",
    "import tensorflow.contrib.layers as ly\n",
    "import os \n",
    "import numpy as np\n",
    "import matplotlib.pyplot as plt\n",
    "import scipy.io as scio\n",
    "from sklearn.model_selection import train_test_split\n",
    "from sklearn.metrics import r2_score\n",
    "import shutil"
   ]
  },
  {
   "cell_type": "markdown",
   "metadata": {},
   "source": [
    "## Parameters"
   ]
  },
  {
   "cell_type": "code",
   "execution_count": 2,
   "metadata": {
    "collapsed": false,
    "scrolled": true
   },
   "outputs": [],
   "source": [
    "# the lambda parameters to balance regression and gan phase. lambda mean the regresion influence on gan.\n",
    "lambda_1 = 0\n",
    "lambda_2 = 0\n",
    "\n",
    "# Inputs:Global parameters \n",
    "batch_size = 64\n",
    "img_dim = 688\n",
    "z_dim = 117\n",
    "y_dim = 2\n",
    "\n",
    "# Optimizer: whether use adam for parameters update , if flag is set false use tf.train.RMEPropOptimzer\n",
    "is_adam = True\n",
    "learning_rate_gen = 2e-4\n",
    "learning_rate_dis = 2e-4\n",
    "# the upper bound and lower bound in critic\n",
    "clamp_lower =-0.01\n",
    "clamp_upper = 0.01\n",
    "\n",
    "\n",
    "# Train : Prameters\n",
    "max_iter_step = 10000\n",
    "device = '/gpu:0'\n",
    "data_format = 'NCHW'\n",
    "channel = 1\n",
    "# Updata Diters times for critic in one iter(unless i<25 or i %500==0, i is the iterstep)\n",
    "Riters = 10\n",
    "Diters = 5\n",
    "Diters = int(((Riters+1)/Riters*Diters))\n",
    "\n",
    "# directory to store log ,include loss  and grad_norm of generator and critic\n",
    "rgan_dir = './Inproved_rgan/Experient_1'\n",
    "log_dir = rgan_dir + '/log_rgan'\n",
    "ckpt_dir = rgan_dir + '/ckpt_rgan'\n",
    "spec_dir = rgan_dir + '/spec_rgan'\n",
    "\n",
    "if not os.path.exists(log_dir):\n",
    "    os.makedirs(log_dir)\n",
    "if not os.path.exists(ckpt_dir):\n",
    "    os.makedirs(ckpt_dir)\n",
    "else:\n",
    "    shutil.rmtree(ckpt_dir)\n",
    "    os.makedirs(ckpt_dir)\n",
    "    \n",
    "if not os.path.exists(spec_dir):\n",
    "    os.makedirs(spec_dir)\n",
    "else:\n",
    "    shutil.rmtree(spec_dir)\n",
    "    os.makedirs(spec_dir)\n",
    "\n",
    "# write the hyperparameter to file\n",
    "config_file = open(rgan_dir+'/config.txt','w')\n",
    "config_file.write('IMPROVED RGAN:\\n ,lambda_1: %s\\n, lambda_2:%s' % (lambda_1,lambda_2))\n",
    "config_file.close()"
   ]
  },
  {
   "cell_type": "markdown",
   "metadata": {},
   "source": [
    "## Load dataset"
   ]
  },
  {
   "cell_type": "code",
   "execution_count": 3,
   "metadata": {
    "collapsed": false,
    "scrolled": true
   },
   "outputs": [
    {
     "data": {
      "image/png": "[encoded data removed]",
      "text/plain": [
       "<matplotlib.figure.Figure at 0xe151160>"
      ]
     },
     "metadata": {},
     "output_type": "display_data"
    }
   ],
   "source": [
    "# from database load the data and label,clip the length network required\n",
    "spect = scio.loadmat('NMR_Index.mat')\n",
    "x,y = spect['NMR'],spect['Index'][:,:2]\n",
    "if x.shape[1]>img_dim:\n",
    "    x = x[:,:img_dim]\n",
    "# plot raw data    \n",
    "plt.plot(x.transpose())\n",
    "plt.show()\n",
    "\n",
    "# pre_processing by minmaxmap\n",
    "xmin, xmax, ymin, ymax = x.min(),x.max(), y.min(),y.max()\n",
    "x,y = (x - xmin)/( xmax - xmin ),(y - ymin)/( ymax - ymin )\n",
    "\n",
    "# reshape the data to the format that look like image\n",
    "x= x.reshape(-1,1,img_dim,1)"
   ]
  },
  {
   "cell_type": "markdown",
   "metadata": {},
   "source": [
    "## Generator"
   ]
  },
  {
   "cell_type": "code",
   "execution_count": 4,
   "metadata": {
    "collapsed": false
   },
   "outputs": [],
   "source": [
    "def generator_conv(z):\n",
    "    train = ly.fully_connected(z, 392*43, activation_fn = tf.nn.relu, normalizer_fn=None)\n",
    "    train = tf.reshape(train,(-1,392,43,1))\n",
    "    train = ly.conv2d_transpose(train, 192, kernel_size=[5,1],stride=[2,1],data_format=data_format,\n",
    "                                activation_fn = tf.nn.relu, normalizer_fn = ly.batch_norm, padding='SAME',\n",
    "                                normalizer_params={'fused':True,'data_format':data_format,},\n",
    "                                weights_initializer = tf.random_normal_initializer(0,0.02))\n",
    "    train = ly.conv2d_transpose(train, 128, kernel_size=[5,1],stride=[2,1],data_format=data_format,\n",
    "                                activation_fn = tf.nn.relu, normalizer_fn = ly.batch_norm, padding='SAME',\n",
    "                                normalizer_params={'fused':True,'data_format':data_format,},\n",
    "                                weights_initializer = tf.random_normal_initializer(0,0.02))\n",
    "    train = ly.conv2d_transpose(train, 64, kernel_size=[5,1],stride=[2,1],data_format=data_format,\n",
    "                                activation_fn = tf.nn.relu, normalizer_fn = ly.batch_norm, padding='SAME',\n",
    "                                normalizer_params={'fused':True,'data_format':data_format,},\n",
    "                                weights_initializer = tf.random_normal_initializer(0,0.02))\n",
    "    train = ly.conv2d_transpose(train, channel , kernel_size=[5,1],stride=[2,1],data_format=data_format,\n",
    "                                activation_fn = tf.nn.tanh, padding='SAME',\n",
    "                                weights_initializer = tf.random_normal_initializer(0,0.02))\n",
    "    return train"
   ]
  },
  {
   "cell_type": "markdown",
   "metadata": {},
   "source": [
    "## Discriminator"
   ]
  },
  {
   "cell_type": "code",
   "execution_count": 5,
   "metadata": {
    "collapsed": true
   },
   "outputs": [],
   "source": [
    "def lrelu(x,leak=0.2,name='lrelu'):\n",
    "    with tf.variable_scope('lrelu'):\n",
    "        f1 = 0.5*(1+leak)\n",
    "        f2 = 0.5*(1-leak)\n",
    "        return f1*x + f2*abs(x)"
   ]
  },
  {
   "cell_type": "code",
   "execution_count": 6,
   "metadata": {
    "collapsed": false
   },
   "outputs": [],
   "source": [
    "def critic_conv(x,c,reuse=False):\n",
    "    with tf.variable_scope('discriminator') as scope:\n",
    "        if reuse:\n",
    "            scope.reuse_variables()\n",
    "        size = 64\n",
    "        \n",
    "        img = ly.conv2d(x,num_outputs=size,kernel_size=[3,1],stride=[2,1],padding='SAME',\n",
    "                       activation_fn = lrelu,data_format=data_format,\n",
    "                       weights_initializer = tf.random_normal_initializer(0,0.02))\n",
    "        # generate feature maps of label\n",
    "        lab = []\n",
    "        for i in range(y_dim):\n",
    "            par = tf.tile(tf.reshape(c[:,1],shape=(batch_size,1)),[1, int(img_dim/2)])\n",
    "            par = tf.reshape( par, [batch_size,1,-1,1])\n",
    "            lab.append(par)\n",
    "        lab = tf.concat(lab,1)\n",
    "        img = tf.concat([lab,img],1)\n",
    "        \n",
    "        img = ly.conv2d(img,num_outputs= size*2,kernel_size=[3,1],stride=1,padding='SAME',\n",
    "                        activation_fn = lrelu,data_format=data_format,normalizer_fn = ly.batch_norm,\n",
    "                        normalizer_params ={'fused':True,'data_format':data_format},\n",
    "                        weights_initializer = tf.random_normal_initializer(0,0.02))\n",
    "        \n",
    "        img = ly.conv2d(img,num_outputs= size*4,kernel_size=[3,1],stride=[2,1],padding='SAME',\n",
    "                        activation_fn = lrelu,data_format=data_format,normalizer_fn = ly.batch_norm,\n",
    "                        normalizer_params ={'fused':True,'data_format':data_format},\n",
    "                        weights_initializer = tf.random_normal_initializer(0,0.02))\n",
    "        img = ly.conv2d(img,num_outputs= size*8,kernel_size=[3,1],stride=1,padding='SAME',\n",
    "                        activation_fn = lrelu,data_format=data_format,normalizer_fn = ly.batch_norm,\n",
    "                        normalizer_params ={'fused':True,'data_format':data_format},\n",
    "                        weights_initializer = tf.random_normal_initializer(0,0.02))\n",
    "        img = tf.reshape(img,[batch_size,-1])\n",
    "        # fully_connected\n",
    "        disc = ly.fully_connected(img,1,activation_fn=None)\n",
    "    \n",
    "    return disc"
   ]
  },
  {
   "cell_type": "markdown",
   "metadata": {},
   "source": [
    "## Build Graph & Loss Function"
   ]
  },
  {
   "cell_type": "code",
   "execution_count": 7,
   "metadata": {
    "collapsed": true
   },
   "outputs": [],
   "source": [
    "def build_graph(is_test=False):\n",
    "    ##########################  Inputs ######################################\n",
    "    # real data \n",
    "    real_data = tf.placeholder(dtype = tf.float32,shape=[batch_size,channel,img_dim,1])\n",
    "    real_label = tf.placeholder(dtype = tf.float32,shape =[batch_size,y_dim])\n",
    "    \n",
    "    # Noise\n",
    "    z_reg = tf.placeholder(dtype = tf.float32,shape =[batch_size,y_dim])\n",
    "    z_rand = tf.placeholder(dtype =tf.float32,shape =[batch_size,z_dim])\n",
    "    z = tf.concat([z_reg,z_rand],axis=1)\n",
    "    #########################  End Inputs #####################################\n",
    "    \n",
    "    ##########################  Graph   ######################################\n",
    "    generator = generator_conv\n",
    "    discriminator = critic_conv\n",
    "    \n",
    "    with tf.variable_scope('generator'):\n",
    "        gen = generator(z)\n",
    "    \n",
    "    disc_real = discriminator(real_data,real_label)\n",
    "    disc_fake = discriminator(gen,z_reg, reuse=True)\n",
    "\n",
    "    # Wasserstein distance\n",
    "    d_loss = tf.reduce_mean(disc_fake - disc_real)\n",
    "    g_loss = tf.reduce_mean( - disc_fake)\n",
    "    g_loss_summ = tf.summary.scalar('wasserstein_loss_g' , g_loss)\n",
    "    d_loss_summ = tf.summary.scalar('wasserstein_loss_d' , -d_loss)\n",
    "     \n",
    "    # Loss of Discriminator and Generator, Discriminator train on True and False data\n",
    "    loss_gen = g_loss\n",
    "    loss_dis = d_loss\n",
    "    \n",
    "    loss_gen_summ = tf.summary.scalar('generator_loss',loss_gen)\n",
    "    loss_dis_summ = tf.summary.scalar('discriminator_loss',loss_dis)\n",
    "    ########################### End Graph   ######################################\n",
    "    if is_test:\n",
    "        return gen,regr_real,z_reg,z_rand,real_data\n",
    "    \n",
    "    ##################### Optimization ########################################\n",
    "    # Variable Collection\n",
    "    theta_g = tf.get_collection(tf.GraphKeys.TRAINABLE_VARIABLES,scope='generator')\n",
    "    theta_d = tf.get_collection(tf.GraphKeys.TRAINABLE_VARIABLES,scope='discriminator')\n",
    "\n",
    "    # Optimizers\n",
    "    counter_g = tf.Variable(trainable=False , initial_value=0,dtype=tf.int32)\n",
    "    opt_g = optimize(loss = loss_gen,variables=theta_g, learning_rate = learning_rate_gen,\n",
    "                    optimizer=tf.train.AdamOptimizer if is_adam is True else tf.train.RMSPropOptimizer,\n",
    "                    global_step=counter_g,summaries=['gradient_norm','gradients'])\n",
    "    \n",
    "    counter_d = tf.Variable(trainable=False , initial_value=0,dtype=tf.int32)\n",
    "    opt_d = optimize(loss =loss_dis,variables=theta_d ,learning_rate = learning_rate_dis,\n",
    "                    optimizer=tf.train.AdamOptimizer if is_adam is True else tf.train.RMSPropOptimizer,\n",
    "                    global_step=counter_d,summaries=['gradient_norm','gradients'])\n",
    "    \n",
    "    # Clip weights\n",
    "    clipped_var_d = [tf.assign(var,tf.clip_by_value(var,clamp_lower,clamp_upper)) for var in theta_d]\n",
    "    with tf.control_dependencies([opt_d]):\n",
    "        opt_d = tf.tuple(clipped_var_d)\n",
    "    ################################# End Optimization ################################################\n",
    "    return opt_d, opt_g ,real_data,real_label,z_reg,z_rand,loss_dis,loss_gen,gen"
   ]
  },
  {
   "cell_type": "markdown",
   "metadata": {},
   "source": [
    "####  Optimizer"
   ]
  },
  {
   "cell_type": "code",
   "execution_count": 8,
   "metadata": {
    "collapsed": true
   },
   "outputs": [],
   "source": [
    "def optimize(loss,learning_rate, optimizer,variables,global_step,summaries):\n",
    "    optim = optimizer(learning_rate=learning_rate)\n",
    "    \n",
    "    # Caculate gradients\n",
    "    gradients = optim.compute_gradients(loss,var_list = variables)\n",
    "    \n",
    "    # Add summary\n",
    "    if summaries is None:\n",
    "        summaries = ['loss','learning_rate']\n",
    "    if 'gradient_norm'  in summaries:\n",
    "        tf.summary.scalar('global_norm/gradient_norm',tf.global_norm(list(zip(*gradients))[0]))\n",
    "        \n",
    "    if 'loss' in summaries:\n",
    "        tf.summary.scalar('loss',loss)\n",
    "    \n",
    "    for gradient,variable in gradients:\n",
    "        if isinstance(gradient,tf.IndexedSlices):\n",
    "            grad_values = gradient.values\n",
    "        else:\n",
    "            grad_values = gradient\n",
    "        \n",
    "        if grad_values is not None:\n",
    "            var_name = variable.name.replace(':','_')\n",
    "            if 'gradients' in summaries:\n",
    "                tf.summary.histogram('gradients/%s'%var_name, grad_values)\n",
    "            \n",
    "            if 'gradient_norm' in summaries:\n",
    "                tf.summary.scalar('gradient_norm/%s'%var_name,tf.global_norm([grad_values]))\n",
    "    return optim.apply_gradients(gradients,global_step=global_step)\n",
    "        "
   ]
  },
  {
   "cell_type": "markdown",
   "metadata": {},
   "source": [
    "## Plot"
   ]
  },
  {
   "cell_type": "code",
   "execution_count": 9,
   "metadata": {
    "collapsed": true
   },
   "outputs": [],
   "source": [
    "def save_spectrum(gen, i,is_show=False):\n",
    "    # control the spect limitation and intv determine the the distance of spectrums\n",
    "    intv = 0\n",
    "    scale = 3.9\n",
    "    # extend along y axis to visulize the difference between spetrum\n",
    "    if is_show:\n",
    "        extd = np.matlib.repmat(np.arange(0,batch_size),img_dim,1) \n",
    "        extd = extd * scale*intv\n",
    "    else:\n",
    "        extd = np.zeros((img_dim, batch_size))\n",
    "    # convert data to ideal format    \n",
    "    spec = gen.reshape(batch_size,img_dim)*(xmax-xmin)+ xmin\n",
    "    spec = spec.transpose() + extd\n",
    "    \n",
    "    # plot the spectrum with ylimit legend and other thing\n",
    "    plt.figure(figsize=(10,8))\n",
    "    plt.plot(np.arange(spec.shape[0]),spec ,'-*')\n",
    "    if is_show:\n",
    "        if intv ==0:\n",
    "            plt.ylim([0,scale])\n",
    "        else:\n",
    "            plt.ylim([0,scale*batch_size*intv])\n",
    "    else:\n",
    "        plt.ylim([0,scale])\n",
    "    \n",
    "    #plt.legend([np.array_str(var) for var in np.arange(batch_size)])\n",
    "    \n",
    "    if is_show:\n",
    "        return plt.show()\n",
    "    # savefig\n",
    "    plt.savefig(spec_dir+'/'+str(i).zfill(4)+'.png')\n",
    "    plt.close('all')"
   ]
  },
  {
   "cell_type": "markdown",
   "metadata": {},
   "source": [
    "## Condictional WGAN Subphase "
   ]
  },
  {
   "cell_type": "code",
   "execution_count": 10,
   "metadata": {
    "collapsed": true
   },
   "outputs": [],
   "source": [
    "def train_wgan(max_iters = 1000):\n",
    "    with tf.device(device):\n",
    "        opt_d, opt_g ,real_data,real_label,z_reg,z_rand,loss_dis,loss_gen,gen = build_graph()\n",
    "    \n",
    "    def next_feed_dict(iter, shuffled = True):\n",
    "        if shuffled:\n",
    "            idx = np.random.randint(x.shape[0],size=(batch_size,))\n",
    "        else:\n",
    "            bat_num = x.shape[0]/batch_size\n",
    "            par = int(iter % bat_num)\n",
    "            idx = np.arange(40)[par * batch_size:(par+1)*batch_size]\n",
    "            \n",
    "        train_img,train_label = x[idx],y[idx].reshape(batch_size,y_dim)\n",
    "        # False data which sigma = 0.3 mean most of point located in the [-1,1].\n",
    "        batch_z_rand = np.random.normal(0,0.3,[batch_size,z_dim]).astype(np.float32)\n",
    "        \n",
    "        if iter % 2 ==0:\n",
    "            y_generated = np.random.uniform(0,1,[batch_size,y_dim])\n",
    "        else:\n",
    "            y_generated = np.random.uniform(0,1,size=(batch_size,1))*np.ones(shape=(1,y_dim))\n",
    "            \n",
    "        feed_dict = {real_data:train_img, real_label:train_label, z_rand:batch_z_rand,z_reg:y_generated}\n",
    "        return feed_dict\n",
    "    \n",
    "    config = tf.ConfigProto(allow_soft_placement = True,log_device_placement=True)\n",
    "    config.gpu_options.allow_growth =True\n",
    "    config.gpu_options.per_process_gpu_memory_fraction=0.9\n",
    "    \n",
    "    with tf.Session(config=config) as sess:\n",
    "        sess.run(tf.global_variables_initializer())\n",
    "\n",
    "        d_loss, g_loss=[], []\n",
    "        for i in range(max_iters):\n",
    "            feed_dict = next_feed_dict(i)\n",
    "            # training discriminator\n",
    "            _,loss_of_dis = sess.run([opt_d,loss_dis],feed_dict = feed_dict)\n",
    "            d_loss.append(loss_of_dis)\n",
    "            if i % 100 == 0:\n",
    "                print('the loss of discriminator is %0.3f'%loss_of_dis)\n",
    "                \n",
    "            \n",
    "            \n",
    "            # training generator\n",
    "            _,loss_of_gen,spec = sess.run([opt_g,loss_gen,gen],feed_dict = feed_dict)\n",
    "            g_loss.append(loss_of_gen)\n",
    "            if i % 100==0:\n",
    "                save_spectrum(spec, i)\n",
    "                print('the loss of generator is %0.3f'%loss_of_gen)\n",
    "                \n",
    "    return  d_loss,g_loss  \n",
    "    "
   ]
  },
  {
   "cell_type": "code",
   "execution_count": 11,
   "metadata": {
    "collapsed": false
   },
   "outputs": [
    {
     "name": "stdout",
     "output_type": "stream",
     "text": [
      "the loss of discriminator is 0.948\n",
      "the loss of generator is 5.289\n",
      "the loss of discriminator is -486.415\n",
      "the loss of generator is 309.526\n",
      "the loss of discriminator is -528.340\n",
      "the loss of generator is 305.944\n",
      "the loss of discriminator is -548.480\n",
      "the loss of generator is 305.401\n",
      "the loss of discriminator is -553.154\n",
      "the loss of generator is 301.883\n"
     ]
    },
    {
     "ename": "KeyboardInterrupt",
     "evalue": "",
     "output_type": "error",
     "traceback": [
      "\u001b[0;31m---------------------------------------------------------------------------\u001b[0m",
      "\u001b[0;31mKeyboardInterrupt\u001b[0m                         Traceback (most recent call last)",
      "\u001b[0;32m<ipython-input-11-db6329f7bf9b>\u001b[0m in \u001b[0;36m<module>\u001b[0;34m()\u001b[0m\n\u001b[1;32m      1\u001b[0m \u001b[0mtf\u001b[0m\u001b[1;33m.\u001b[0m\u001b[0mreset_default_graph\u001b[0m\u001b[1;33m(\u001b[0m\u001b[1;33m)\u001b[0m\u001b[1;33m\u001b[0m\u001b[0m\n\u001b[0;32m----> 2\u001b[0;31m \u001b[0md_loss\u001b[0m\u001b[1;33m,\u001b[0m\u001b[0mg_loss\u001b[0m \u001b[1;33m=\u001b[0m \u001b[0mtrain_wgan\u001b[0m\u001b[1;33m(\u001b[0m\u001b[0mmax_iters\u001b[0m \u001b[1;33m=\u001b[0m \u001b[1;36m2000\u001b[0m\u001b[1;33m)\u001b[0m\u001b[1;33m\u001b[0m\u001b[0m\n\u001b[0m",
      "\u001b[0;32m<ipython-input-10-44734f5bed43>\u001b[0m in \u001b[0;36mtrain_wgan\u001b[0;34m(max_iters)\u001b[0m\n\u001b[1;32m     34\u001b[0m             \u001b[0mfeed_dict\u001b[0m \u001b[1;33m=\u001b[0m \u001b[0mnext_feed_dict\u001b[0m\u001b[1;33m(\u001b[0m\u001b[0mi\u001b[0m\u001b[1;33m)\u001b[0m\u001b[1;33m\u001b[0m\u001b[0m\n\u001b[1;32m     35\u001b[0m             \u001b[1;31m# training discriminator\u001b[0m\u001b[1;33m\u001b[0m\u001b[1;33m\u001b[0m\u001b[0m\n\u001b[0;32m---> 36\u001b[0;31m             \u001b[0m_\u001b[0m\u001b[1;33m,\u001b[0m\u001b[0mloss_of_dis\u001b[0m \u001b[1;33m=\u001b[0m \u001b[0msess\u001b[0m\u001b[1;33m.\u001b[0m\u001b[0mrun\u001b[0m\u001b[1;33m(\u001b[0m\u001b[1;33m[\u001b[0m\u001b[0mopt_d\u001b[0m\u001b[1;33m,\u001b[0m\u001b[0mloss_dis\u001b[0m\u001b[1;33m]\u001b[0m\u001b[1;33m,\u001b[0m\u001b[0mfeed_dict\u001b[0m \u001b[1;33m=\u001b[0m \u001b[0mfeed_dict\u001b[0m\u001b[1;33m)\u001b[0m\u001b[1;33m\u001b[0m\u001b[0m\n\u001b[0m\u001b[1;32m     37\u001b[0m             \u001b[0md_loss\u001b[0m\u001b[1;33m.\u001b[0m\u001b[0mappend\u001b[0m\u001b[1;33m(\u001b[0m\u001b[0mloss_of_dis\u001b[0m\u001b[1;33m)\u001b[0m\u001b[1;33m\u001b[0m\u001b[0m\n\u001b[1;32m     38\u001b[0m             \u001b[1;32mif\u001b[0m \u001b[0mi\u001b[0m \u001b[1;33m%\u001b[0m \u001b[1;36m100\u001b[0m \u001b[1;33m==\u001b[0m \u001b[1;36m0\u001b[0m\u001b[1;33m:\u001b[0m\u001b[1;33m\u001b[0m\u001b[0m\n",
      "\u001b[0;32mC:\\Program Files\\Anaconda3\\lib\\site-packages\\tensorflow\\python\\client\\session.py\u001b[0m in \u001b[0;36mrun\u001b[0;34m(self, fetches, feed_dict, options, run_metadata)\u001b[0m\n\u001b[1;32m    776\u001b[0m     \u001b[1;32mtry\u001b[0m\u001b[1;33m:\u001b[0m\u001b[1;33m\u001b[0m\u001b[0m\n\u001b[1;32m    777\u001b[0m       result = self._run(None, fetches, feed_dict, options_ptr,\n\u001b[0;32m--> 778\u001b[0;31m                          run_metadata_ptr)\n\u001b[0m\u001b[1;32m    779\u001b[0m       \u001b[1;32mif\u001b[0m \u001b[0mrun_metadata\u001b[0m\u001b[1;33m:\u001b[0m\u001b[1;33m\u001b[0m\u001b[0m\n\u001b[1;32m    780\u001b[0m         \u001b[0mproto_data\u001b[0m \u001b[1;33m=\u001b[0m \u001b[0mtf_session\u001b[0m\u001b[1;33m.\u001b[0m\u001b[0mTF_GetBuffer\u001b[0m\u001b[1;33m(\u001b[0m\u001b[0mrun_metadata_ptr\u001b[0m\u001b[1;33m)\u001b[0m\u001b[1;33m\u001b[0m\u001b[0m\n",
      "\u001b[0;32mC:\\Program Files\\Anaconda3\\lib\\site-packages\\tensorflow\\python\\client\\session.py\u001b[0m in \u001b[0;36m_run\u001b[0;34m(self, handle, fetches, feed_dict, options, run_metadata)\u001b[0m\n\u001b[1;32m    980\u001b[0m     \u001b[1;32mif\u001b[0m \u001b[0mfinal_fetches\u001b[0m \u001b[1;32mor\u001b[0m \u001b[0mfinal_targets\u001b[0m\u001b[1;33m:\u001b[0m\u001b[1;33m\u001b[0m\u001b[0m\n\u001b[1;32m    981\u001b[0m       results = self._do_run(handle, final_targets, final_fetches,\n\u001b[0;32m--> 982\u001b[0;31m                              feed_dict_string, options, run_metadata)\n\u001b[0m\u001b[1;32m    983\u001b[0m     \u001b[1;32melse\u001b[0m\u001b[1;33m:\u001b[0m\u001b[1;33m\u001b[0m\u001b[0m\n\u001b[1;32m    984\u001b[0m       \u001b[0mresults\u001b[0m \u001b[1;33m=\u001b[0m \u001b[1;33m[\u001b[0m\u001b[1;33m]\u001b[0m\u001b[1;33m\u001b[0m\u001b[0m\n",
      "\u001b[0;32mC:\\Program Files\\Anaconda3\\lib\\site-packages\\tensorflow\\python\\client\\session.py\u001b[0m in \u001b[0;36m_do_run\u001b[0;34m(self, handle, target_list, fetch_list, feed_dict, options, run_metadata)\u001b[0m\n\u001b[1;32m   1030\u001b[0m     \u001b[1;32mif\u001b[0m \u001b[0mhandle\u001b[0m \u001b[1;32mis\u001b[0m \u001b[1;32mNone\u001b[0m\u001b[1;33m:\u001b[0m\u001b[1;33m\u001b[0m\u001b[0m\n\u001b[1;32m   1031\u001b[0m       return self._do_call(_run_fn, self._session, feed_dict, fetch_list,\n\u001b[0;32m-> 1032\u001b[0;31m                            target_list, options, run_metadata)\n\u001b[0m\u001b[1;32m   1033\u001b[0m     \u001b[1;32melse\u001b[0m\u001b[1;33m:\u001b[0m\u001b[1;33m\u001b[0m\u001b[0m\n\u001b[1;32m   1034\u001b[0m       return self._do_call(_prun_fn, self._session, handle, feed_dict,\n",
      "\u001b[0;32mC:\\Program Files\\Anaconda3\\lib\\site-packages\\tensorflow\\python\\client\\session.py\u001b[0m in \u001b[0;36m_do_call\u001b[0;34m(self, fn, *args)\u001b[0m\n\u001b[1;32m   1037\u001b[0m   \u001b[1;32mdef\u001b[0m \u001b[0m_do_call\u001b[0m\u001b[1;33m(\u001b[0m\u001b[0mself\u001b[0m\u001b[1;33m,\u001b[0m \u001b[0mfn\u001b[0m\u001b[1;33m,\u001b[0m \u001b[1;33m*\u001b[0m\u001b[0margs\u001b[0m\u001b[1;33m)\u001b[0m\u001b[1;33m:\u001b[0m\u001b[1;33m\u001b[0m\u001b[0m\n\u001b[1;32m   1038\u001b[0m     \u001b[1;32mtry\u001b[0m\u001b[1;33m:\u001b[0m\u001b[1;33m\u001b[0m\u001b[0m\n\u001b[0;32m-> 1039\u001b[0;31m       \u001b[1;32mreturn\u001b[0m \u001b[0mfn\u001b[0m\u001b[1;33m(\u001b[0m\u001b[1;33m*\u001b[0m\u001b[0margs\u001b[0m\u001b[1;33m)\u001b[0m\u001b[1;33m\u001b[0m\u001b[0m\n\u001b[0m\u001b[1;32m   1040\u001b[0m     \u001b[1;32mexcept\u001b[0m \u001b[0merrors\u001b[0m\u001b[1;33m.\u001b[0m\u001b[0mOpError\u001b[0m \u001b[1;32mas\u001b[0m \u001b[0me\u001b[0m\u001b[1;33m:\u001b[0m\u001b[1;33m\u001b[0m\u001b[0m\n\u001b[1;32m   1041\u001b[0m       \u001b[0mmessage\u001b[0m \u001b[1;33m=\u001b[0m \u001b[0mcompat\u001b[0m\u001b[1;33m.\u001b[0m\u001b[0mas_text\u001b[0m\u001b[1;33m(\u001b[0m\u001b[0me\u001b[0m\u001b[1;33m.\u001b[0m\u001b[0mmessage\u001b[0m\u001b[1;33m)\u001b[0m\u001b[1;33m\u001b[0m\u001b[0m\n",
      "\u001b[0;32mC:\\Program Files\\Anaconda3\\lib\\site-packages\\tensorflow\\python\\client\\session.py\u001b[0m in \u001b[0;36m_run_fn\u001b[0;34m(session, feed_dict, fetch_list, target_list, options, run_metadata)\u001b[0m\n\u001b[1;32m   1019\u001b[0m         return tf_session.TF_Run(session, options,\n\u001b[1;32m   1020\u001b[0m                                  \u001b[0mfeed_dict\u001b[0m\u001b[1;33m,\u001b[0m \u001b[0mfetch_list\u001b[0m\u001b[1;33m,\u001b[0m \u001b[0mtarget_list\u001b[0m\u001b[1;33m,\u001b[0m\u001b[1;33m\u001b[0m\u001b[0m\n\u001b[0;32m-> 1021\u001b[0;31m                                  status, run_metadata)\n\u001b[0m\u001b[1;32m   1022\u001b[0m \u001b[1;33m\u001b[0m\u001b[0m\n\u001b[1;32m   1023\u001b[0m     \u001b[1;32mdef\u001b[0m \u001b[0m_prun_fn\u001b[0m\u001b[1;33m(\u001b[0m\u001b[0msession\u001b[0m\u001b[1;33m,\u001b[0m \u001b[0mhandle\u001b[0m\u001b[1;33m,\u001b[0m \u001b[0mfeed_dict\u001b[0m\u001b[1;33m,\u001b[0m \u001b[0mfetch_list\u001b[0m\u001b[1;33m)\u001b[0m\u001b[1;33m:\u001b[0m\u001b[1;33m\u001b[0m\u001b[0m\n",
      "\u001b[0;31mKeyboardInterrupt\u001b[0m: "
     ]
    }
   ],
   "source": [
    "tf.reset_default_graph()\n",
    "d_loss,g_loss = train_wgan(max_iters = 2000)"
   ]
  },
  {
   "cell_type": "code",
   "execution_count": 12,
   "metadata": {
    "collapsed": false
   },
   "outputs": [
    {
     "ename": "NameError",
     "evalue": "name 'd_loss' is not defined",
     "output_type": "error",
     "traceback": [
      "\u001b[0;31m---------------------------------------------------------------------------\u001b[0m",
      "\u001b[0;31mNameError\u001b[0m                                 Traceback (most recent call last)",
      "\u001b[0;32m<ipython-input-12-93331de1b774>\u001b[0m in \u001b[0;36m<module>\u001b[0;34m()\u001b[0m\n\u001b[0;32m----> 1\u001b[0;31m \u001b[0md_loss\u001b[0m\u001b[1;33m,\u001b[0m\u001b[0mg_loss\u001b[0m \u001b[1;33m=\u001b[0m \u001b[1;33m[\u001b[0m\u001b[0mnp\u001b[0m\u001b[1;33m.\u001b[0m\u001b[0marray\u001b[0m\u001b[1;33m(\u001b[0m\u001b[0mvar\u001b[0m\u001b[1;33m)\u001b[0m \u001b[1;32mfor\u001b[0m \u001b[0mvar\u001b[0m \u001b[1;32min\u001b[0m\u001b[1;33m(\u001b[0m\u001b[0md_loss\u001b[0m\u001b[1;33m,\u001b[0m\u001b[0mg_loss\u001b[0m\u001b[1;33m)\u001b[0m\u001b[1;33m]\u001b[0m\u001b[1;33m\u001b[0m\u001b[0m\n\u001b[0m\u001b[1;32m      2\u001b[0m \u001b[0mplt\u001b[0m\u001b[1;33m.\u001b[0m\u001b[0mplot\u001b[0m\u001b[1;33m(\u001b[0m\u001b[0mnp\u001b[0m\u001b[1;33m.\u001b[0m\u001b[0marange\u001b[0m\u001b[1;33m(\u001b[0m\u001b[1;36m2000\u001b[0m\u001b[1;33m)\u001b[0m\u001b[1;33m,\u001b[0m\u001b[0md_loss\u001b[0m\u001b[1;33m,\u001b[0m\u001b[1;34m'-r'\u001b[0m\u001b[1;33m,\u001b[0m\u001b[0mnp\u001b[0m\u001b[1;33m.\u001b[0m\u001b[0marange\u001b[0m\u001b[1;33m(\u001b[0m\u001b[1;36m2000\u001b[0m\u001b[1;33m)\u001b[0m\u001b[1;33m,\u001b[0m\u001b[0mg_loss\u001b[0m\u001b[1;33m,\u001b[0m\u001b[1;34m'-b'\u001b[0m\u001b[1;33m)\u001b[0m\u001b[1;33m\u001b[0m\u001b[0m\n\u001b[1;32m      3\u001b[0m \u001b[0mplt\u001b[0m\u001b[1;33m.\u001b[0m\u001b[0mshow\u001b[0m\u001b[1;33m(\u001b[0m\u001b[1;33m)\u001b[0m\u001b[1;33m\u001b[0m\u001b[0m\n",
      "\u001b[0;31mNameError\u001b[0m: name 'd_loss' is not defined"
     ]
    }
   ],
   "source": [
    "d_loss,g_loss = [np.array(var) for var in(d_loss,g_loss)]    \n",
    "plt.plot(np.arange(2000),d_loss,'-r',np.arange(2000),g_loss,'-b')\n",
    "plt.show()"
   ]
  },
  {
   "cell_type": "code",
   "execution_count": null,
   "metadata": {
    "collapsed": true
   },
   "outputs": [],
   "source": []
  },
  {
   "cell_type": "code",
   "execution_count": null,
   "metadata": {
    "collapsed": true
   },
   "outputs": [],
   "source": []
  },
  {
   "cell_type": "code",
   "execution_count": null,
   "metadata": {
    "collapsed": true
   },
   "outputs": [],
   "source": []
  },
  {
   "cell_type": "code",
   "execution_count": null,
   "metadata": {
    "collapsed": true
   },
   "outputs": [],
   "source": []
  }
 ],
 "metadata": {
  "anaconda-cloud": {},
  "kernelspec": {
   "display_name": "Python [conda root]",
   "language": "python",
   "name": "conda-root-py"
  },
  "language_info": {
   "codemirror_mode": {
    "name": "ipython",
    "version": 3
   },
   "file_extension": ".py",
   "mimetype": "text/x-python",
   "name": "python",
   "nbconvert_exporter": "python",
   "pygments_lexer": "ipython3",
   "version": "3.5.2"
  }
 },
 "nbformat": 4,
 "nbformat_minor": 1
}
