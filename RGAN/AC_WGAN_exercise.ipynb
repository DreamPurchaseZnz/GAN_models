{
 "cells": [
  {
   "cell_type": "code",
   "execution_count": 1,
   "metadata": {
    "collapsed": false
   },
   "outputs": [],
   "source": [
    "import matplotlib.pyplot as plt\n",
    "import os \n",
    "import numpy as np\n",
    "\n",
    "import tensorflow as tf\n",
    "import tensorflow.contrib.layers as ly\n",
    "from tensorflow.examples.tutorials.mnist import input_data"
   ]
  },
  {
   "cell_type": "markdown",
   "metadata": {},
   "source": [
    "## Define leakyrelu"
   ]
  },
  {
   "cell_type": "code",
   "execution_count": 2,
   "metadata": {
    "collapsed": true
   },
   "outputs": [],
   "source": [
    "def lrelu(x,leak=0.2,name='lrelu'):\n",
    "    with tf.variable_scope(name):\n",
    "        f1 = 0.5*(1+leak)\n",
    "        f2 = 0.5*(1-leak)\n",
    "        return f1*x +f2*abs(x)"
   ]
  },
  {
   "cell_type": "markdown",
   "metadata": {},
   "source": [
    "## Generator"
   ]
  },
  {
   "cell_type": "code",
   "execution_count": 17,
   "metadata": {
    "collapsed": false
   },
   "outputs": [],
   "source": [
    "def generator_conv(z):\n",
    "    train = ly.fully_connected(z,4*4*512, activation_fn = tf.nn.relu,normalizer_fn=None)\n",
    "    train = tf.reshape(train, (-1,512,4,4))\n",
    "    train = ly.conv2d_transpose(train, 256, 3, stride=2, data_format = data_format,\n",
    "                                activation_fn = tf.nn.relu ,normalizer_fn= ly.batch_norm, padding='SAME',\n",
    "                                normalizer_params = {'fused':True,'data_format':data_format},\n",
    "                                weights_initializer = tf.random_normal_initializer(0,0.04))# use tf.nn.fused_batch_norm\n",
    "    train = ly.conv2d_transpose(train, 128, 3, stride=2, data_format = data_format,\n",
    "                                activation_fn = tf.nn.relu ,normalizer_fn = ly.batch_norm, padding='SAME',\n",
    "                                normalizer_params = {'fused':True,'data_format':data_format},\n",
    "                                weights_initializer = tf.random_normal_initializer(0,0.04))\n",
    "    train = ly.conv2d_transpose(train, 64, 3, stride=2, data_format = data_format,\n",
    "                                activation_fn = tf.nn.relu ,normalizer_fn = ly.batch_norm, padding='SAME',\n",
    "                                normalizer_params = {'fused':True,'data_format':data_format},\n",
    "                                weights_initializer = tf.random_normal_initializer(0,0.04))\n",
    "    train = ly.conv2d_transpose(train, channel, 3, stride=1, data_format = data_format,\n",
    "                                activation_fn = tf.nn.tanh ,padding='SAME',\n",
    "                                weights_initializer = tf.random_normal_initializer(0,0.04))\n",
    "    return train"
   ]
  },
  {
   "cell_type": "markdown",
   "metadata": {},
   "source": [
    "## Discriminator"
   ]
  },
  {
   "cell_type": "code",
   "execution_count": 4,
   "metadata": {
    "collapsed": true
   },
   "outputs": [],
   "source": [
    "def critic_conv(x,reuse=False):\n",
    "    with tf.variable_scope('discriminator') as scope:\n",
    "        if reuse:\n",
    "            scope.reuse_variables()\n",
    "        size = 64\n",
    "        \n",
    "        img = ly.conv2d(x, num_outputs = size,kernel_size=3,stride=2 ,\n",
    "                       data_format = data_format, activation_fn = lrelu)\n",
    "        img = ly.conv2d(img,num_outputs= 2*size,kernel_size=3 ,data_format=data_format,\n",
    "                      stride=2,activation_fn=lrelu, normalizer_fn=ly.batch_norm,\n",
    "                      normalizer_params={'fused':True,'data_format':data_format})\n",
    "        img = ly.conv2d(img,num_outputs= 4*size,kernel_size=3 ,data_format=data_format,\n",
    "                      stride=2,activation_fn=lrelu, normalizer_fn=ly.batch_norm,\n",
    "                      normalizer_params={'fused':True,'data_format':data_format})\n",
    "        \n",
    "        img = ly.conv2d(img,num_outputs= 8*size,kernel_size=3 ,data_format=data_format,\n",
    "                      stride=2,activation_fn=lrelu, normalizer_fn=ly.batch_norm,\n",
    "                      normalizer_params={'fused':True,'data_format':data_format})\n",
    "        img = tf.reshape(img,[batch_size,-1])\n",
    "        \n",
    "        disc = ly.fully_connected(img, 1,activation_fn =None)#  No activation \n",
    "    return disc"
   ]
  },
  {
   "cell_type": "markdown",
   "metadata": {},
   "source": [
    "## Classifier"
   ]
  },
  {
   "cell_type": "code",
   "execution_count": 5,
   "metadata": {
    "collapsed": false
   },
   "outputs": [],
   "source": [
    "def classifier_conv(x,reuse=False):\n",
    "    with tf.variable_scope('classifier') as scope:\n",
    "        if reuse:\n",
    "                scope.reuse_variables()\n",
    "        size = 32 \n",
    "        img = ly.conv2d(x,num_outputs=size ,kernel_size = 5,data_format = data_format,\n",
    "                       stride = 1,activation_fn = tf.nn.relu)\n",
    "        img = ly.max_pool2d(img,2, stride = 2,padding='SAME',data_format = data_format)\n",
    "        img = ly.conv2d(img, num_outputs=size,kernel_size =5,data_format = data_format,\n",
    "                       stride =1,activation_fn =tf.nn.relu, normalizer_fn= ly.batch_norm,\n",
    "                       normalizer_params = {'fused':True,'data_format':data_format})\n",
    "        img = ly.max_pool2d(img,2,stride=2,padding='SAME',data_format=data_format)\n",
    "        \n",
    "        img = tf.reshape(img,[batch_size,-1])\n",
    "        img = ly.fully_connected(img,1024,activation_fn=tf.nn.relu)\n",
    "        \n",
    "        cat = ly.fully_connected(img,y_dim,activation_fn=None)\n",
    "    return cat"
   ]
  },
  {
   "cell_type": "markdown",
   "metadata": {},
   "source": [
    "## Build Graph and Loss function"
   ]
  },
  {
   "cell_type": "code",
   "execution_count": 6,
   "metadata": {
    "collapsed": false
   },
   "outputs": [],
   "source": [
    "def build_graph(is_test=False):\n",
    "    ##################### Inputs #####################################\n",
    "    # real data\n",
    "    real_data = tf.placeholder(\n",
    "        dtype = tf.float32, shape=(batch_size,channel,img_dim,img_dim))\n",
    "    real_label = tf.placeholder(dtype = tf.float32, shape =(batch_size,y_dim))\n",
    "    \n",
    "    # fake data\n",
    "    z_cat = tf.placeholder(dtype = tf.float32, shape=(batch_size,y_dim))\n",
    "    z_rand = tf.placeholder(dtype = tf.float32, shape=(batch_size,z_dim))\n",
    "    z = tf.concat([z_cat,z_rand],axis=1)\n",
    "    ##################### End Inputs #################################\n",
    "    \n",
    "    ##################### Graph ######################################\n",
    "    generator = generator_conv\n",
    "    discriminator = critic_conv\n",
    "    classifier = classifier_conv\n",
    "    \n",
    "    with tf.variable_scope('generator'):\n",
    "        gen = generator(z)\n",
    "        \n",
    "    if is_test:\n",
    "        return gen, z_cat,z_rand\n",
    "    \n",
    "    # image_summary\n",
    "    img_sum = tf.summary.image('img',tf.transpose(gen,(0,2,3,1)),max_outputs=10)\n",
    "    \n",
    "    # discriminator\n",
    "    disc_real = discriminator(real_data)\n",
    "    disc_fake = discriminator(gen,reuse=True)\n",
    "    \n",
    "    # Classifier\n",
    "    cat_real = classifier(real_data)\n",
    "    cat_fake = classifier(gen,reuse = True)\n",
    "    \n",
    "    # Loss \n",
    "    # wasserstein\n",
    "    d_loss = tf.reduce_mean(disc_fake-disc_real)\n",
    "    g_loss = tf.reduce_mean(-disc_fake)\n",
    "    g_loss_sum = tf.summary.scalar('wasserstein_loss_g',g_loss)\n",
    "    c_loss_sum = tf.summary.scalar('wasserstein_loss_d',d_loss)\n",
    "    \n",
    "    # categorical loss\n",
    "    loss_c_f = tf.nn.softmax_cross_entropy_with_logits(logits=cat_fake,labels=z_cat)\n",
    "    loss_c_r = tf.nn.softmax_cross_entropy_with_logits(logits=cat_real,labels=real_label)\n",
    "    loss_c_f_sum = tf.summary.scalar('categorical_c_f_loss',tf.reduce_mean(loss_c_f))\n",
    "    loss_c_r_sum = tf.summary.scalar('categorical_c_r_loss',tf.reduce_mean(loss_c_r))\n",
    "    loss_c = (loss_c_f+loss_c_r)/2\n",
    "    loss_c_sum = tf.summary.scalar('categorical_c',tf.reduce_mean(loss_c))\n",
    "    ##################### End  Graph ########################################\n",
    "    \n",
    "                                   \n",
    "    ##################### Optimization ########################################\n",
    "    # Variable Collections\n",
    "    theta_g = tf.get_collection(\n",
    "            tf.GraphKeys.TRAINABLE_VARIABLES, scope='generator')\n",
    "    theta_d = tf.get_collection(tf.GraphKeys.TRAINABLE_VARIABLES, scope='discriminator')\n",
    "    theta_c = tf.get_collection(tf.GraphKeys.TRAINABLE_VARIABLES, scope='classifier')\n",
    "    \n",
    "    \n",
    "    # Optimizers\n",
    "    counter_g = tf.Variable(trainable=False, initial_value=0,dtype=tf.int32)\n",
    "    opt_g = optimize(loss=g_loss, learning_rate=learning_rate_gen,\n",
    "                     optimizer=tf.train.AdamOptimizer if is_adam is True else tf.train.RMSPropOptimizer,\n",
    "                     variables =theta_g, global_step = counter_g, \n",
    "                     summaries = 'gradient_norm')\n",
    "                                   \n",
    "    counter_d = tf.Variable(trainable=False, initial_value=0,dtype=tf.int32)\n",
    "    opt_d = optimize(loss=d_loss, learning_rate=learning_rate_dis,\n",
    "                     optimizer=tf.train.AdamOptimizer if is_adam is True else tf.train.RMSPropOptimizer,\n",
    "                     variables =theta_d, global_step = counter_g, \n",
    "                     summaries = 'gradient_norm')\n",
    "                                   \n",
    "    counter_c_f = tf.Variable(trainable=False, initial_value=0,dtype=tf.int32)\n",
    "    opt_c_f = optimize(loss=loss_c_f, learning_rate=learning_rate_gen,\n",
    "                     optimizer=tf.train.AdamOptimizer if is_adam is True else tf.train.RMSPropOptimizer,\n",
    "                     variables =theta_g, global_step = counter_c_f, \n",
    "                     summaries = 'gradient_norm')\n",
    "    counter_c_r = tf.Variable(trainable=False, initial_value=0,dtype=tf.int32)\n",
    "    opt_c_r = optimize(loss=loss_c, learning_rate=learning_rate_cat,\n",
    "                     optimizer=tf.train.AdamOptimizer if is_adam is True else tf.train.RMSPropOptimizer,\n",
    "                     variables =theta_c, global_step = counter_c_r, \n",
    "                     summaries = 'gradient_norm')\n",
    "    \n",
    "    # Clip weights\n",
    "    clipped_var_d = [tf.assign(var,tf.clip_by_value(var,clamp_lower,clamp_upper)) for var in theta_d]\n",
    "    with tf.control_dependencies([opt_d]):\n",
    "        opt_d = tf.tuple(clipped_var_d)\n",
    "    ########################### End Optimization ################################\n",
    "    return opt_g,opt_d,opt_c_f,opt_c_r,real_data,real_label, z_cat, z_rand                              "
   ]
  },
  {
   "cell_type": "markdown",
   "metadata": {},
   "source": [
    "## Optimizer"
   ]
  },
  {
   "cell_type": "code",
   "execution_count": 7,
   "metadata": {
    "collapsed": true
   },
   "outputs": [],
   "source": [
    "def optimize(loss,learning_rate,optimizer,variables,global_step,summaries):\n",
    "    optim = optimizer(learning_rate=learning_rate)\n",
    "    \n",
    "    # Calculate Gradient\n",
    "    gradients = optim.compute_gradients(loss,var_list=variables)\n",
    "    \n",
    "    # Add summary\n",
    "    if summaries is None:\n",
    "        summaries = ['loss','learning_rate']\n",
    "    if 'gradient_norm' in summaries:\n",
    "        tf.summary.scalar('global_norm/gradient_norm',tf.global_norm(list(zip(*gradients))[0]))\n",
    "    \n",
    "    # Add scalar summary for loss\n",
    "    if 'loss' in summaries:\n",
    "        tf.summary.scalar('loss',loss)\n",
    "    \n",
    "    for gradient ,variable in gradients:\n",
    "        if isinstance(gradient,tf.IndexedSlices):\n",
    "            grad_values = gradient.values\n",
    "        else:\n",
    "            grad_values = gradient\n",
    "        \n",
    "        if grad_values is not None:\n",
    "            var_name = variable.name.replace(':','_')\n",
    "            if 'gradients' in summaries:\n",
    "                tf.summary.histogram('gradients/%s'% var_name,grad_values)\n",
    "            if 'gradient_norm' in summaries:\n",
    "                tf.summary.scalar('gradient_norm/%s'%var_name,tf.global_norm([grad_values]))\n",
    "                \n",
    "    return optim.apply_gradients(gradients,global_step=global_step)"
   ]
  },
  {
   "cell_type": "markdown",
   "metadata": {},
   "source": [
    "## Prameters"
   ]
  },
  {
   "cell_type": "code",
   "execution_count": 8,
   "metadata": {
    "collapsed": true
   },
   "outputs": [],
   "source": [
    "# Global parameters\n",
    "batch_size =64\n",
    "img_dim = 32\n",
    "z_dim = 128\n",
    "y_dim = 10\n",
    "learning_rate_gen = 2e-4\n",
    "learning_rate_dis = 2e-4\n",
    "learning_rate_cat = 2e-4\n",
    "\n",
    "device = '/gpu:0'\n",
    "data_format = 'NCHW'\n",
    "# img size\n",
    "s=32\n",
    "# updata Diters times for critic in one iter(unless i<25 or i % 500 ==0, i is iterstep)\n",
    "c_interv = 2.0\n",
    "Diters = 5\n",
    "Diters = int((c_interv+1)/c_interv*Diters)\n",
    "\n",
    "# the upper bound and lower bound of parameters in critic\n",
    "clamp_lower = -0.01\n",
    "clamp_upper = 0.01\n",
    "# whether use adam for parameters update, if flag is set false use tf.train.RMSPropOptimizer\n",
    "is_adam = False\n",
    "channel = 1\n",
    "\n",
    "# directory to store log,include loss and grad_norm of generator and critic\n",
    "log_dir = './log_wgan'\n",
    "ckpt_dir = './ckpt_wgan'\n",
    "classifier_dir = './cat_wgan'\n",
    "if not os.path.exists(log_dir):\n",
    "    os.makedirs(log_dir)\n",
    "if not os.path.exists(ckpt_dir):\n",
    "    os.makedirs(ckpt_dir)\n",
    "if not os.path.exists(classifier_dir):\n",
    "    os.makedirs(classifier_dir)\n",
    "    \n",
    "# max iter step, note that  one step indicates that a Diters updatas of critic and one updatas of generator\n",
    "\n",
    "max_iter_step = 10000"
   ]
  },
  {
   "cell_type": "markdown",
   "metadata": {},
   "source": [
    "## Training step"
   ]
  },
  {
   "cell_type": "code",
   "execution_count": 9,
   "metadata": {
    "collapsed": false
   },
   "outputs": [],
   "source": [
    "def main():\n",
    "    dataset = input_data.read_data_sets('MNIST_data',one_hot=True)\n",
    "    with tf.device(device):\n",
    "        opt_g,opt_d,opt_c_f,opt_c_r,real_data,real_label, z_cat, z_rand = build_graph()\n",
    "    \n",
    "    merged_all = tf.summary.merge_all()\n",
    "    saver = tf.train.Saver()\n",
    "    # config for session\n",
    "    config = tf.ConfigProto(allow_soft_placement=True,log_device_placement=True)\n",
    "    config.gpu_options.allow_growth=True\n",
    "    config.gpu_options.per_process_gpu_memory_fraction=0.9\n",
    "    \n",
    "    def next_feed_dict(iter):\n",
    "        # True data \n",
    "        train_img,train_label = dataset.train.next_batch(batch_size)\n",
    "        train_img = train_img*2-1\n",
    "        \n",
    "        train_img = np.reshape(train_img,(-1,channel,28,28))\n",
    "        npad = ((0,0),(0,0),(2,2),(2,2))\n",
    "        train_img = np.pad(train_img,pad_width=npad,mode='constant',constant_values=-1)\n",
    "        \n",
    "        # Noise\n",
    "        batch_z_rand = np.random.normal(0,1,[batch_size,z_dim]).astype(np.float32)\n",
    "        # Generate random one_hot vectors as class condition\n",
    "        if iter % 2 ==0:\n",
    "            idx = np.random.randint(0,y_dim-1,size=(batch_size,))\n",
    "        else:\n",
    "            idx = np.random.randint(0,y_dim-1)\n",
    "        y_generated = np.zeros((batch_size,y_dim))\n",
    "        y_generated[np.arange(batch_size),idx]=1\n",
    "        \n",
    "        feed_dict ={real_data:train_img, real_label:train_label ,z_cat:y_generated ,z_rand:batch_z_rand}\n",
    "        return feed_dict\n",
    "    \n",
    "    with tf.Session(config=config) as sess:\n",
    "        sess.run(tf.global_variables_initializer())\n",
    "        summary_writer =  tf.summary.FileWriter(log_dir,sess.graph)\n",
    "        \n",
    "        # training loop begain\n",
    "        for i in range(max_iter_step):\n",
    "            if i % 100 ==0:\n",
    "                print(i)\n",
    "                \n",
    "            if i % 25 or i % 500==0:\n",
    "                diters = 100\n",
    "            else:\n",
    "                diters = Diters*2\n",
    "            \n",
    "            # Train Discriminator\n",
    "            for j in range(diters):\n",
    "                feed_dict = next_feed_dict(i)\n",
    "                if i % 100 ==99 and j==0:\n",
    "                    run_options = tf.RunOptions(trace_level=tf.RunOptions.NO_TRACE)\n",
    "                    run_metadata = tf.RunMetadata()\n",
    "                    \n",
    "                    _,merged =sess.run([opt_d,merged_all],feed_dict = feed_dict,options= run_options,run_metadata=run_metadata)\n",
    "                    summary_writer.add_summary(merged,i)\n",
    "                    summary_writer.add_run_metadata(run_metadata,'discriminator_metedata{}'.format(i),i)\n",
    "                else:\n",
    "                    sess.run(opt_d,feed_dict=feed_dict)\n",
    "                \n",
    "            # Train Generator\n",
    "            feed_dict = next_feed_dict(i)\n",
    "            if i% 100 == 99:\n",
    "                _,merged = sess.run([opt_g,merged_all],feed_dict =feed_dict,\n",
    "                                   options = run_options,run_metadata=run_metadata)\n",
    "                summary_writer.add_summary(merged, i)\n",
    "                summary_writer.add_run_metadata(run_metadata,'generator_metadata{}'.format(i),i)\n",
    "            else:\n",
    "                sess.run([opt_g],feed_dict = feed_dict)\n",
    "            \n",
    "            # Train Generator on Classifier\n",
    "            if i % c_interv ==0:\n",
    "                feed_dict = next_feed_dict(i)\n",
    "                if i % 100==99:\n",
    "                    _,merged = sess.run([opt_c_f, merged_all],feed_dict = feed_dict,\n",
    "                                       options =run_options,run_metadata= run_metadata)\n",
    "                    summary_writer.add_summary(merged_all,i)\n",
    "                    summary_writer.add_run_metadata(run_metadata,'generator_f_metadata{}'.format(i),i)\n",
    "                    \n",
    "                else:\n",
    "                    sess.run(opt_c_f,feed_dict=feed_dict)\n",
    "            \n",
    "            # Train Classifer on fake and real\n",
    "            if i % c_interv ==0:\n",
    "                feed_dict = next_feed_dict(i)\n",
    "                if i %100 ==99:\n",
    "                    _,merged = sess.run([opt_c_r, merged_all],feed_dict = feed_dict,\n",
    "                                       options =run_options,run_metadata= run_metadata)\n",
    "                    summary_writer.add_summary(merged, i)\n",
    "                    summary_writer.add_run_metadata(\n",
    "                        run_metadata, 'classifier_r_metadata {}'.format(i), i)\n",
    "                else:\n",
    "                    sess.run(opt_c_r, feed_dict=feed_dict)\n",
    "            q\n",
    "            # Save model\n",
    "            if i %1000 == 999:\n",
    "                saver.save(sess, os.path.join(ckpt_dir,'model.ckpt'),global_step=i)\n",
    "         "
   ]
  },
  {
   "cell_type": "code",
   "execution_count": 10,
   "metadata": {
    "collapsed": false
   },
   "outputs": [],
   "source": [
    "def test(test_num = 10):\n",
    "    img = np.zeros((img_dim*test_num, img_dim*test_num))\n",
    "    \n",
    "    with tf.Session(config = tf.ConfigProto(allow_soft_placement=True,log_device_placement=True)) as sess:\n",
    "        with tf.device(device):\n",
    "            train, z_cat,z_rand = build_graph(is_test=True)\n",
    "        saver = tf.train.Saver()\n",
    "        \n",
    "        saver.restore(sess, tf.train.latest_checkpoint(ckpt_dir))\n",
    "        \n",
    "        for i in range(10):\n",
    "            batch_z = np.random.normal(0,1,[batch_size,z_dim]).astype(np.float32)\n",
    "            y_generated = np.zeros((batch_size,y_dim))\n",
    "            y_generated[:,i] = 1\n",
    "            \n",
    "            output = sess.run(tf.transpose(train,(0,2,3,1)),feed_dict={z_rand:batch_z,z_cat:y_generated})\n",
    "            img[:,img_dim*i:img_dim*(i+1)] =  np.reshape(output[:test_num, :, :, :],(test_num * img_dim,img_dim))\n",
    "        \n",
    "        image = ((img/2+0.5)*255).astype(np.uint8)\n",
    "        plt.imshow(image,cmap='gray')\n",
    "        plt.show()"
   ]
  },
  {
   "cell_type": "code",
   "execution_count": 11,
   "metadata": {
    "collapsed": false,
    "scrolled": true
   },
   "outputs": [
    {
     "name": "stdout",
     "output_type": "stream",
     "text": [
      "Extracting MNIST_data\\train-images-idx3-ubyte.gz\n",
      "Extracting MNIST_data\\train-labels-idx1-ubyte.gz\n",
      "Extracting MNIST_data\\t10k-images-idx3-ubyte.gz\n",
      "Extracting MNIST_data\\t10k-labels-idx1-ubyte.gz\n",
      "0\n",
      "100\n",
      "200\n",
      "300\n",
      "400\n",
      "500\n",
      "600\n",
      "700\n",
      "800\n",
      "900\n"
     ]
    },
    {
     "ename": "KeyboardInterrupt",
     "evalue": "",
     "output_type": "error",
     "traceback": [
      "\u001b[0;31m---------------------------------------------------------------------------\u001b[0m",
      "\u001b[0;31mKeyboardInterrupt\u001b[0m                         Traceback (most recent call last)",
      "\u001b[0;32m<ipython-input-11-2436fc2ab63a>\u001b[0m in \u001b[0;36m<module>\u001b[0;34m()\u001b[0m\n\u001b[1;32m      1\u001b[0m \u001b[1;32mif\u001b[0m \u001b[0m__name__\u001b[0m \u001b[1;33m==\u001b[0m \u001b[1;34m'__main__'\u001b[0m\u001b[1;33m:\u001b[0m\u001b[1;33m\u001b[0m\u001b[0m\n\u001b[0;32m----> 2\u001b[0;31m     \u001b[0mmain\u001b[0m\u001b[1;33m(\u001b[0m\u001b[1;33m)\u001b[0m\u001b[1;33m\u001b[0m\u001b[0m\n\u001b[0m",
      "\u001b[0;32m<ipython-input-9-98aafefad277>\u001b[0m in \u001b[0;36mmain\u001b[0;34m()\u001b[0m\n\u001b[1;32m     58\u001b[0m                     \u001b[0msummary_writer\u001b[0m\u001b[1;33m.\u001b[0m\u001b[0madd_run_metadata\u001b[0m\u001b[1;33m(\u001b[0m\u001b[0mrun_metadata\u001b[0m\u001b[1;33m,\u001b[0m\u001b[1;34m'discriminator_metedata{}'\u001b[0m\u001b[1;33m.\u001b[0m\u001b[0mformat\u001b[0m\u001b[1;33m(\u001b[0m\u001b[0mi\u001b[0m\u001b[1;33m)\u001b[0m\u001b[1;33m,\u001b[0m\u001b[0mi\u001b[0m\u001b[1;33m)\u001b[0m\u001b[1;33m\u001b[0m\u001b[0m\n\u001b[1;32m     59\u001b[0m                 \u001b[1;32melse\u001b[0m\u001b[1;33m:\u001b[0m\u001b[1;33m\u001b[0m\u001b[0m\n\u001b[0;32m---> 60\u001b[0;31m                     \u001b[0msess\u001b[0m\u001b[1;33m.\u001b[0m\u001b[0mrun\u001b[0m\u001b[1;33m(\u001b[0m\u001b[0mopt_d\u001b[0m\u001b[1;33m,\u001b[0m\u001b[0mfeed_dict\u001b[0m\u001b[1;33m=\u001b[0m\u001b[0mfeed_dict\u001b[0m\u001b[1;33m)\u001b[0m\u001b[1;33m\u001b[0m\u001b[0m\n\u001b[0m\u001b[1;32m     61\u001b[0m \u001b[1;33m\u001b[0m\u001b[0m\n\u001b[1;32m     62\u001b[0m             \u001b[1;31m# Train Generator\u001b[0m\u001b[1;33m\u001b[0m\u001b[1;33m\u001b[0m\u001b[0m\n",
      "\u001b[0;32mC:\\Program Files\\Anaconda3\\lib\\site-packages\\tensorflow\\python\\client\\session.py\u001b[0m in \u001b[0;36mrun\u001b[0;34m(self, fetches, feed_dict, options, run_metadata)\u001b[0m\n\u001b[1;32m    776\u001b[0m     \u001b[1;32mtry\u001b[0m\u001b[1;33m:\u001b[0m\u001b[1;33m\u001b[0m\u001b[0m\n\u001b[1;32m    777\u001b[0m       result = self._run(None, fetches, feed_dict, options_ptr,\n\u001b[0;32m--> 778\u001b[0;31m                          run_metadata_ptr)\n\u001b[0m\u001b[1;32m    779\u001b[0m       \u001b[1;32mif\u001b[0m \u001b[0mrun_metadata\u001b[0m\u001b[1;33m:\u001b[0m\u001b[1;33m\u001b[0m\u001b[0m\n\u001b[1;32m    780\u001b[0m         \u001b[0mproto_data\u001b[0m \u001b[1;33m=\u001b[0m \u001b[0mtf_session\u001b[0m\u001b[1;33m.\u001b[0m\u001b[0mTF_GetBuffer\u001b[0m\u001b[1;33m(\u001b[0m\u001b[0mrun_metadata_ptr\u001b[0m\u001b[1;33m)\u001b[0m\u001b[1;33m\u001b[0m\u001b[0m\n",
      "\u001b[0;32mC:\\Program Files\\Anaconda3\\lib\\site-packages\\tensorflow\\python\\client\\session.py\u001b[0m in \u001b[0;36m_run\u001b[0;34m(self, handle, fetches, feed_dict, options, run_metadata)\u001b[0m\n\u001b[1;32m    980\u001b[0m     \u001b[1;32mif\u001b[0m \u001b[0mfinal_fetches\u001b[0m \u001b[1;32mor\u001b[0m \u001b[0mfinal_targets\u001b[0m\u001b[1;33m:\u001b[0m\u001b[1;33m\u001b[0m\u001b[0m\n\u001b[1;32m    981\u001b[0m       results = self._do_run(handle, final_targets, final_fetches,\n\u001b[0;32m--> 982\u001b[0;31m                              feed_dict_string, options, run_metadata)\n\u001b[0m\u001b[1;32m    983\u001b[0m     \u001b[1;32melse\u001b[0m\u001b[1;33m:\u001b[0m\u001b[1;33m\u001b[0m\u001b[0m\n\u001b[1;32m    984\u001b[0m       \u001b[0mresults\u001b[0m \u001b[1;33m=\u001b[0m \u001b[1;33m[\u001b[0m\u001b[1;33m]\u001b[0m\u001b[1;33m\u001b[0m\u001b[0m\n",
      "\u001b[0;32mC:\\Program Files\\Anaconda3\\lib\\site-packages\\tensorflow\\python\\client\\session.py\u001b[0m in \u001b[0;36m_do_run\u001b[0;34m(self, handle, target_list, fetch_list, feed_dict, options, run_metadata)\u001b[0m\n\u001b[1;32m   1030\u001b[0m     \u001b[1;32mif\u001b[0m \u001b[0mhandle\u001b[0m \u001b[1;32mis\u001b[0m \u001b[1;32mNone\u001b[0m\u001b[1;33m:\u001b[0m\u001b[1;33m\u001b[0m\u001b[0m\n\u001b[1;32m   1031\u001b[0m       return self._do_call(_run_fn, self._session, feed_dict, fetch_list,\n\u001b[0;32m-> 1032\u001b[0;31m                            target_list, options, run_metadata)\n\u001b[0m\u001b[1;32m   1033\u001b[0m     \u001b[1;32melse\u001b[0m\u001b[1;33m:\u001b[0m\u001b[1;33m\u001b[0m\u001b[0m\n\u001b[1;32m   1034\u001b[0m       return self._do_call(_prun_fn, self._session, handle, feed_dict,\n",
      "\u001b[0;32mC:\\Program Files\\Anaconda3\\lib\\site-packages\\tensorflow\\python\\client\\session.py\u001b[0m in \u001b[0;36m_do_call\u001b[0;34m(self, fn, *args)\u001b[0m\n\u001b[1;32m   1037\u001b[0m   \u001b[1;32mdef\u001b[0m \u001b[0m_do_call\u001b[0m\u001b[1;33m(\u001b[0m\u001b[0mself\u001b[0m\u001b[1;33m,\u001b[0m \u001b[0mfn\u001b[0m\u001b[1;33m,\u001b[0m \u001b[1;33m*\u001b[0m\u001b[0margs\u001b[0m\u001b[1;33m)\u001b[0m\u001b[1;33m:\u001b[0m\u001b[1;33m\u001b[0m\u001b[0m\n\u001b[1;32m   1038\u001b[0m     \u001b[1;32mtry\u001b[0m\u001b[1;33m:\u001b[0m\u001b[1;33m\u001b[0m\u001b[0m\n\u001b[0;32m-> 1039\u001b[0;31m       \u001b[1;32mreturn\u001b[0m \u001b[0mfn\u001b[0m\u001b[1;33m(\u001b[0m\u001b[1;33m*\u001b[0m\u001b[0margs\u001b[0m\u001b[1;33m)\u001b[0m\u001b[1;33m\u001b[0m\u001b[0m\n\u001b[0m\u001b[1;32m   1040\u001b[0m     \u001b[1;32mexcept\u001b[0m \u001b[0merrors\u001b[0m\u001b[1;33m.\u001b[0m\u001b[0mOpError\u001b[0m \u001b[1;32mas\u001b[0m \u001b[0me\u001b[0m\u001b[1;33m:\u001b[0m\u001b[1;33m\u001b[0m\u001b[0m\n\u001b[1;32m   1041\u001b[0m       \u001b[0mmessage\u001b[0m \u001b[1;33m=\u001b[0m \u001b[0mcompat\u001b[0m\u001b[1;33m.\u001b[0m\u001b[0mas_text\u001b[0m\u001b[1;33m(\u001b[0m\u001b[0me\u001b[0m\u001b[1;33m.\u001b[0m\u001b[0mmessage\u001b[0m\u001b[1;33m)\u001b[0m\u001b[1;33m\u001b[0m\u001b[0m\n",
      "\u001b[0;32mC:\\Program Files\\Anaconda3\\lib\\site-packages\\tensorflow\\python\\client\\session.py\u001b[0m in \u001b[0;36m_run_fn\u001b[0;34m(session, feed_dict, fetch_list, target_list, options, run_metadata)\u001b[0m\n\u001b[1;32m   1019\u001b[0m         return tf_session.TF_Run(session, options,\n\u001b[1;32m   1020\u001b[0m                                  \u001b[0mfeed_dict\u001b[0m\u001b[1;33m,\u001b[0m \u001b[0mfetch_list\u001b[0m\u001b[1;33m,\u001b[0m \u001b[0mtarget_list\u001b[0m\u001b[1;33m,\u001b[0m\u001b[1;33m\u001b[0m\u001b[0m\n\u001b[0;32m-> 1021\u001b[0;31m                                  status, run_metadata)\n\u001b[0m\u001b[1;32m   1022\u001b[0m \u001b[1;33m\u001b[0m\u001b[0m\n\u001b[1;32m   1023\u001b[0m     \u001b[1;32mdef\u001b[0m \u001b[0m_prun_fn\u001b[0m\u001b[1;33m(\u001b[0m\u001b[0msession\u001b[0m\u001b[1;33m,\u001b[0m \u001b[0mhandle\u001b[0m\u001b[1;33m,\u001b[0m \u001b[0mfeed_dict\u001b[0m\u001b[1;33m,\u001b[0m \u001b[0mfetch_list\u001b[0m\u001b[1;33m)\u001b[0m\u001b[1;33m:\u001b[0m\u001b[1;33m\u001b[0m\u001b[0m\n",
      "\u001b[0;31mKeyboardInterrupt\u001b[0m: "
     ]
    }
   ],
   "source": [
    "if __name__ == '__main__':\n",
    "    main()"
   ]
  },
  {
   "cell_type": "code",
   "execution_count": 14,
   "metadata": {
    "collapsed": false
   },
   "outputs": [
    {
     "name": "stdout",
     "output_type": "stream",
     "text": [
      "INFO:tensorflow:Restoring parameters from ./ckpt_wgan\\model.ckpt-9999\n"
     ]
    },
    {
     "data": {
      "image/png": "[encoded data removed]",
      "text/plain": [
       "<matplotlib.figure.Figure at 0x113d7da0>"
      ]
     },
     "metadata": {},
     "output_type": "display_data"
    }
   ],
   "source": [
    "tf.reset_default_graph()\n",
    "test()"
   ]
  },
  {
   "cell_type": "code",
   "execution_count": null,
   "metadata": {
    "collapsed": true
   },
   "outputs": [],
   "source": []
  }
 ],
 "metadata": {
  "anaconda-cloud": {},
  "kernelspec": {
   "display_name": "Python [conda root]",
   "language": "python",
   "name": "conda-root-py"
  },
  "language_info": {
   "codemirror_mode": {
    "name": "ipython",
    "version": 3
   },
   "file_extension": ".py",
   "mimetype": "text/x-python",
   "name": "python",
   "nbconvert_exporter": "python",
   "pygments_lexer": "ipython3",
   "version": "3.5.2"
  }
 },
 "nbformat": 4,
 "nbformat_minor": 1
}
